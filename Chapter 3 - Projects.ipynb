{
 "cells": [
  {
   "cell_type": "code",
   "execution_count": 10,
   "id": "35391db7",
   "metadata": {},
   "outputs": [
    {
     "data": {
      "image/png": "[encoded data removed]",
      "text/plain": [
       "<Figure size 432x288 with 1 Axes>"
      ]
     },
     "metadata": {
      "needs_background": "light"
     },
     "output_type": "display_data"
    }
   ],
   "source": [
    "# P-3.55\n",
    "def prefix_average1(S):\n",
    "    n = len(S)\n",
    "    A = [0]*n\n",
    "    for j in range(n):\n",
    "        total = 0\n",
    "        for i in range(j+1):\n",
    "            total += S[i]\n",
    "        A[j] = total / (j+1)\n",
    "    return A\n",
    "\n",
    "def prefix_average2(S):\n",
    "    n = len(S)\n",
    "    A = [0]*n\n",
    "    for j in range(n):\n",
    "        A[j] = sum(S[0:j+1]) / (j+1)\n",
    "        \n",
    "def prefix_average3(S):\n",
    "    n = len(S)\n",
    "    A = [0]*n\n",
    "    total = 0\n",
    "    for j in range(n):\n",
    "        total += S[j]\n",
    "        A[j] = total / (j+1)\n",
    "    return A\n",
    "        \n",
    "import matplotlib.pyplot as plt\n",
    "from time import time\n",
    "\n",
    "n = [10, 100, 500, 1000, 1500, 5000]\n",
    "\n",
    "times = []\n",
    "for i in n:\n",
    "    start_time = time()\n",
    "    prefix_average1(list(range(i)))\n",
    "    end_time = time()\n",
    "    elapsed = end_time - start_time\n",
    "    times.append(elapsed)\n",
    "plt.loglog(n, times, label='prefix_average1')\n",
    "\n",
    "times = []\n",
    "for i in n:\n",
    "    start_time = time()\n",
    "    prefix_average2(list(range(i)))\n",
    "    end_time = time()\n",
    "    elapsed = end_time - start_time\n",
    "    times.append(elapsed)\n",
    "plt.loglog(n, times, label='prefix_average2')\n",
    "\n",
    "times = []\n",
    "for i in n:\n",
    "    start_time = time()\n",
    "    prefix_average3(list(range(i)))\n",
    "    end_time = time()\n",
    "    elapsed = end_time - start_time\n",
    "    times.append(elapsed)\n",
    "\n",
    "plt.loglog(n, times, label='prefix_average3')\n",
    "\n",
    "plt.xlabel('input size')\n",
    "plt.ylabel('run time')\n",
    "plt.legend()\n",
    "plt.show()"
   ]
  },
  {
   "cell_type": "code",
   "execution_count": 12,
   "id": "73dce5c1",
   "metadata": {},
   "outputs": [
    {
     "data": {
      "image/png": "[encoded data removed]",
      "text/plain": [
       "<Figure size 432x288 with 1 Axes>"
      ]
     },
     "metadata": {
      "needs_background": "light"
     },
     "output_type": "display_data"
    }
   ],
   "source": [
    "# P-3.56\n",
    "from time import time\n",
    "import matplotlib.pyplot as plt \n",
    "\n",
    "def example1(S):\n",
    "    n = len(S)\n",
    "    total = 0\n",
    "    for j in range(n):\n",
    "        total += S[j]\n",
    "    return total\n",
    "\n",
    "def example2(S):\n",
    "    n = len(S)\n",
    "    total = 0\n",
    "    for j in range(0, n, 2):\n",
    "        total += S[j]\n",
    "    return total\n",
    "\n",
    "def example3(S):\n",
    "    n = len(S)\n",
    "    total = 0\n",
    "    for j in range(n):\n",
    "        for k in range(1+j):\n",
    "            total += S[k]\n",
    "    return total\n",
    "\n",
    "def example4(S):\n",
    "    n = len(S)\n",
    "    prefix = 0\n",
    "    total = 0\n",
    "    for j in range(n):\n",
    "        prefix += S[j]\n",
    "        total += prefix\n",
    "    return total\n",
    "\n",
    "n = [1000, 2000, 3000, 4000, 5000, 6000]   \n",
    "\n",
    "times = []\n",
    "for i in n:\n",
    "    start_time = time()\n",
    "    example1(list(range(i)))\n",
    "    end_time = time()\n",
    "    elapsed = end_time - start_time\n",
    "    times.append(elapsed)\n",
    "plt.loglog(n, times, label='example1')\n",
    "\n",
    "times = []\n",
    "for i in n:\n",
    "    start_time = time()\n",
    "    example2(list(range(i)))\n",
    "    end_time = time()\n",
    "    elapsed = end_time - start_time\n",
    "    times.append(elapsed)\n",
    "plt.loglog(n, times, label='example2')\n",
    "\n",
    "times = []\n",
    "for i in n:\n",
    "    start_time = time()\n",
    "    example3(list(range(i)))\n",
    "    end_time = time()\n",
    "    elapsed = end_time - start_time\n",
    "    times.append(elapsed)\n",
    "plt.loglog(n, times, label='example3')\n",
    "\n",
    "times = []\n",
    "for i in n:\n",
    "    start_time = time()\n",
    "    example4(list(range(i)))\n",
    "    end_time = time()\n",
    "    elapsed = end_time - start_time\n",
    "    times.append(elapsed)\n",
    "plt.loglog(n, times, label='example4')\n",
    "\n",
    "plt.xlabel('input size')\n",
    "plt.ylabel('run time')\n",
    "plt.legend()\n",
    "plt.show()"
   ]
  },
  {
   "cell_type": "code",
   "execution_count": 18,
   "id": "051bc68c",
   "metadata": {},
   "outputs": [
    {
     "name": "stdout",
     "output_type": "stream",
     "text": [
      "0.0\n",
      "0.0\n",
      "0.016491174697875977\n",
      "0.07580280303955078\n",
      "0.14893221855163574\n",
      "0.7758843898773193\n"
     ]
    },
    {
     "data": {
      "image/png": "[encoded data removed]",
      "text/plain": [
       "<Figure size 432x288 with 1 Axes>"
      ]
     },
     "metadata": {
      "needs_background": "light"
     },
     "output_type": "display_data"
    }
   ],
   "source": [
    "# P-3.57\n",
    "from time import time\n",
    "import matplotlib.pyplot as plt\n",
    "from random import randint\n",
    "\n",
    "n_size1 = [randint(0, 100) for i in range(1000)]\n",
    "n_size2 = [randint(0, 100) for i in range(5000)]\n",
    "n_size3 = [randint(0, 100) for i in range(10000)]\n",
    "n_size4 = [randint(0, 100) for i in range(500000)]\n",
    "n_size5 = [randint(0, 100) for i in range(1000000)]\n",
    "n_size6 = [randint(0, 100) for i in range(5000000)]\n",
    "\n",
    "lst = [n_size1, n_size2, n_size3, n_size4, n_size5, n_size6]\n",
    "\n",
    "def test_sorted(inp):\n",
    "    start_time = time()\n",
    "    sorted(inp)\n",
    "    end_time = time()\n",
    "    elapsed = end_time - start_time\n",
    "    print(elapsed)\n",
    "    return elapsed\n",
    "    \n",
    "times = []\n",
    "for inp in lst:\n",
    "    times.append(test_sorted(inp))\n",
    "    \n",
    "plt.plot([1000, 5000, 10000, 500000, 1000000, 5000000], times)\n",
    "plt.show()\n",
    "# Curve is just greater than O(n)"
   ]
  },
  {
   "cell_type": "code",
   "execution_count": 1,
   "id": "8d8a427b",
   "metadata": {},
   "outputs": [
    {
     "name": "stdout",
     "output_type": "stream",
     "text": [
      "76.25105094909668\n"
     ]
    }
   ],
   "source": [
    "# P-3.58\n",
    "from time import time\n",
    "from random import randint, shuffle\n",
    "\n",
    "def unique1(S): # O(n^2) \n",
    "    for j in range(len(S)):\n",
    "        for k in range(j+1, len(S)):\n",
    "            if S[j] == S[k]:\n",
    "                return False\n",
    "    return True\n",
    "\n",
    "\n",
    "inp = list(range(24000))\n",
    "start = time()\n",
    "unique1(inp)\n",
    "end = time()\n",
    "elasped = end - start\n",
    "print(elasped)\n",
    "# Here we see an input size of n = 24000 takes around 1 minute."
   ]
  },
  {
   "cell_type": "code",
   "execution_count": 3,
   "id": "8c833b08",
   "metadata": {},
   "outputs": [
    {
     "name": "stdout",
     "output_type": "stream",
     "text": [
      "36.2102472782135\n"
     ]
    }
   ],
   "source": [
    "def unique2(S): # O(n)\n",
    "    temp = sorted(S)\n",
    "    for j in range(1, len(temp)):\n",
    "        if temp[j-1] == temp[j]:\n",
    "            return False\n",
    "    return True\n",
    "\n",
    "inp = list(range(90000000))\n",
    "start = time()\n",
    "unique2(inp)\n",
    "end = time()\n",
    "elasped = end - start\n",
    "print(elasped)\n",
    "# Here we see an input size of n = 90000000 takes around 30 seconds.\n",
    "# Because this function runs on linear time, we can assume n=270000000\n",
    "# takes around 1 minute."
   ]
  },
  {
   "cell_type": "code",
   "execution_count": null,
   "id": "f125d23a",
   "metadata": {},
   "outputs": [],
   "source": []
  }
 ],
 "metadata": {
  "kernelspec": {
   "display_name": "Python 3",
   "language": "python",
   "name": "python3"
  },
  "language_info": {
   "codemirror_mode": {
    "name": "ipython",
    "version": 3
   },
   "file_extension": ".py",
   "mimetype": "text/x-python",
   "name": "python",
   "nbconvert_exporter": "python",
   "pygments_lexer": "ipython3",
   "version": "3.8.8"
  }
 },
 "nbformat": 4,
 "nbformat_minor": 5
}
