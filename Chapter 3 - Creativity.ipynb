{
 "cells": [
  {
   "cell_type": "code",
   "execution_count": 1,
   "id": "b682a7fa",
   "metadata": {},
   "outputs": [
    {
     "name": "stdout",
     "output_type": "stream",
     "text": [
      "[0, 1, 1, 2, 3, 4, 5, 7, 8, 9]\n"
     ]
    },
    {
     "data": {
      "text/plain": [
       "True"
      ]
     },
     "execution_count": 1,
     "metadata": {},
     "output_type": "execute_result"
    }
   ],
   "source": [
    "# C-3.35\n",
    "def disjoint(A,B,C):\n",
    "    '''Return True if there is no element common to all three lists.'''\n",
    "    lst = sorted(A+B+C)   # O(nlogn) +O(1) +O(1) +O(1)\n",
    "    print(lst) # O(1)\n",
    "    for i in range(len(lst)-1): # O(n)\n",
    "        if lst[i] == lst[i+1]: # O(1)\n",
    "            return True # O(1)\n",
    "    return False # O(1), but only one return will be used\n",
    "\n",
    "# nlogn+1+1+1+1+n+1+1 = nlogn + n + 6 is O(nlogn)\n",
    "\n",
    "x=[1,9,8]\n",
    "y=[7,2,4]\n",
    "z=[0,1,5,3]\n",
    "disjoint(x,y,z)"
   ]
  },
  {
   "cell_type": "code",
   "execution_count": 2,
   "id": "eb4e8b20",
   "metadata": {},
   "outputs": [
    {
     "data": {
      "text/plain": [
       "[48, 69, 74, 75, 81, 82, 84, 89, 90, 95]"
      ]
     },
     "execution_count": 2,
     "metadata": {},
     "output_type": "execute_result"
    }
   ],
   "source": [
    "# C-3.36\n",
    "def ten_largest(S):\n",
    "    lst = sorted(S) # O(nlogn) + O(1)\n",
    "    return lst[-10:] # O(1)\n",
    "# nlogn + 2 is O(nlogn)\n",
    "\n",
    "from random import randint\n",
    "S = [randint(0,100) for i in range(20)]\n",
    "ten_largest(S)"
   ]
  },
  {
   "cell_type": "code",
   "execution_count": 3,
   "id": "01977884",
   "metadata": {},
   "outputs": [],
   "source": [
    "# C-3.37\n",
    "\n",
    "# Steady-state functions such as sine and cosine are\n",
    "# neither O(n) or Ω(n)."
   ]
  },
  {
   "cell_type": "code",
   "execution_count": 5,
   "id": "633ebac2",
   "metadata": {},
   "outputs": [
    {
     "data": {
      "text/plain": [
       "55"
      ]
     },
     "execution_count": 5,
     "metadata": {},
     "output_type": "execute_result"
    }
   ],
   "source": [
    "# C-3.38\n",
    "# By induction, no term will exceed a degree of 2 and thus \n",
    "# the expression does in fact fall within O(n^3).\n",
    "def sum_of_nums_squared(n):\n",
    "    res = 0\n",
    "    for num in n:\n",
    "         res += num**2\n",
    "    return res\n",
    "\n",
    "sum_of_nums_squared([1,2,3,4,5])"
   ]
  },
  {
   "cell_type": "code",
   "execution_count": 6,
   "id": "00c543ce",
   "metadata": {},
   "outputs": [
    {
     "name": "stdout",
     "output_type": "stream",
     "text": [
      "0.5\n",
      "1.0\n",
      "1.375\n",
      "1.625\n",
      "1.78125\n",
      "1.875\n",
      "1.9296875\n",
      "1.9609375\n",
      "1.978515625\n",
      "1.98828125\n",
      "1.99365234375\n",
      "1.99658203125\n",
      "1.9981689453125\n",
      "1.9990234375\n",
      "1.999481201171875\n",
      "1.999725341796875\n",
      "1.9998550415039062\n",
      "1.9999237060546875\n",
      "1.999959945678711\n",
      "1.999979019165039\n",
      "1.9999890327453613\n",
      "1.9999942779541016\n",
      "1.9999970197677612\n",
      "1.9999984502792358\n",
      "1.9999991953372955\n",
      "1.9999995827674866\n",
      "1.9999997839331627\n",
      "1.999999888241291\n",
      "1.9999999422580004\n",
      "1.9999999701976776\n"
     ]
    }
   ],
   "source": [
    "# C-3.39\n",
    "\n",
    "def progression(n):\n",
    "    res = 0\n",
    "    for i in n:\n",
    "        res += i/2**i\n",
    "        print(res)\n",
    "        \n",
    "S = list(range(1, 31))\n",
    "progression(S)"
   ]
  },
  {
   "cell_type": "code",
   "execution_count": 7,
   "id": "1246bf57",
   "metadata": {},
   "outputs": [],
   "source": [
    "# C-3.40\n",
    "\n",
    "# logb(f(n)) can also be written as (1/log(b))*log(f(n))  (recall log means base 2)\n",
    "\n",
    "# To show that it is Θ(log(f(n))), we must show it is both Ω(log(f(n))) and O(log(f(n))).\n",
    "\n",
    "# In the definition of both Ω and O, if we use (1/log(b)) as our constant c, we see\n",
    "# that logb(f(n)) is both Ω(log(f(n))) and O(log(f(n))) and thus is Θ(log(f(n)))."
   ]
  },
  {
   "cell_type": "code",
   "execution_count": 8,
   "id": "b72983c6",
   "metadata": {},
   "outputs": [
    {
     "name": "stdout",
     "output_type": "stream",
     "text": [
      "[9, 23, 31, 3, 16, 5, 98, 88, 54, 16, 22, 98, 52, 47, 67, 39, 88, 36, 64, 71]\n"
     ]
    },
    {
     "data": {
      "text/plain": [
       "(3, 98)"
      ]
     },
     "execution_count": 8,
     "metadata": {},
     "output_type": "execute_result"
    }
   ],
   "source": [
    "# C-3.41\n",
    "\n",
    "def min_max(S):\n",
    "    lst = sorted(S)\n",
    "    return (lst[0], lst[-1]) # O(nlogn) + O(1) + O(1) is O(nlogn)\n",
    "\n",
    "from random import randint\n",
    "\n",
    "seq = [randint(0,100) for i in range(20)]\n",
    "print(seq)\n",
    "min_max(seq)"
   ]
  },
  {
   "cell_type": "code",
   "execution_count": 1,
   "id": "db35c227",
   "metadata": {},
   "outputs": [],
   "source": [
    "# C-3.42\n",
    "\n",
    "# The maximum number of site visits, C_max = n*(n+1)/2\n",
    "\n",
    "# If each friend visits just under the max amount of times:\n",
    "# C = n*(n-1)/2.\n",
    "\n",
    "# Let n = 20. Then C_max = 210.\n",
    "# If each friend visits just under the max amount of times:\n",
    "# C = 190. \n",
    "# This is consistent with each of the 20 friends missing one visit: 210 - 20 = 190.\n",
    "\n",
    "# So Bob will know that someone visited a max number of times at C = 191."
   ]
  },
  {
   "cell_type": "code",
   "execution_count": 2,
   "id": "05bc0185",
   "metadata": {},
   "outputs": [],
   "source": [
    "# C-3.43\n",
    "\n",
    "# What is the sum of the first n odd numbers?\n",
    "# Take a look at the MathJax below"
   ]
  },
  {
   "cell_type": "markdown",
   "id": "508d33e9",
   "metadata": {},
   "source": [
    "$$ \\sum_{k=1}^{n}(2k-1) = {n^2} $$"
   ]
  },
  {
   "cell_type": "code",
   "execution_count": 3,
   "id": "7881fb07",
   "metadata": {},
   "outputs": [],
   "source": [
    "# We can see this visually:\n",
    "\n",
    "#  1            3              5\n",
    "#  □            □             □ □\n",
    "#              □ □           □ □ □\n",
    "#               \n",
    "\n",
    "#   □ 1          □ 2            □ 3  \n",
    "#   1          □ □              □\n",
    "#              2            □ □ □\n",
    "#                           3  \n",
    "\n",
    "# 1 = 1*1 = 1     1 + 3 = 2*2 = 4     1 + 3 + 5 = 3*3 = 9"
   ]
  },
  {
   "cell_type": "code",
   "execution_count": 5,
   "id": "8ceac87d",
   "metadata": {},
   "outputs": [],
   "source": [
    "# C-3.44\n",
    "\n",
    "# a. An integer of 100 bits is 2^100 = 1.2e+30 \n",
    "\n",
    "# However, in factoring we only have to test up to the square root of the number,\n",
    "# sqrt(1.2e+30) = 1.09e+15. \n",
    "\n",
    "# Each check take 1e-6 seconds. Multiplying our number by this value gives\n",
    "# 1.09e+9 seconds. This is around 30 years; the worst case time for the algorithm\n",
    "# on the computer to decipher the secret message.\n",
    "\n",
    "# b. We could solve n = (log(r))/8 + 1 for r to get r = 2^(8n-8) which is O(2^n)."
   ]
  },
  {
   "cell_type": "code",
   "execution_count": 6,
   "id": "437b6702",
   "metadata": {},
   "outputs": [
    {
     "data": {
      "text/plain": [
       "7"
      ]
     },
     "execution_count": 6,
     "metadata": {},
     "output_type": "execute_result"
    }
   ],
   "source": [
    "# C-3.45\n",
    "def find_missing(S):\n",
    "    n = len(S) # O(1)\n",
    "    for num in range(0, len(S)): # O(n)\n",
    "        if num not in S: # O(1)\n",
    "            return num # O(1)\n",
    "    return 'None missing' # Also possible O(1)\n",
    "\n",
    "# 1 + n + 1 + 1 = n+3 is O(n).\n",
    "\n",
    "lst = [0,1,2,3,4,5,6,8,9,10,11,12]\n",
    "find_missing(lst)"
   ]
  },
  {
   "cell_type": "code",
   "execution_count": 7,
   "id": "24806d71",
   "metadata": {},
   "outputs": [],
   "source": [
    "# C-3.46\n",
    "\n",
    "# Al did not prove that if sheep n is a color A, then sheep n+1 is a color A."
   ]
  },
  {
   "cell_type": "code",
   "execution_count": 8,
   "id": "0ac4cd84",
   "metadata": {},
   "outputs": [],
   "source": [
    "# C-3.47\n",
    "\n",
    "# 1. Base case: 1 line meets at 0 points\n",
    "#               2 lines meet at 1 point.\n",
    "\n",
    "# 2. Assume k lines meet at k-1 points.\n",
    "# So for k lines we have sum(0, k-1) which follows \n",
    "# the quadratic behavior of n(n+1)/2, sharing the same\n",
    "# growth rate of Θ(n^2)."
   ]
  },
  {
   "cell_type": "code",
   "execution_count": 9,
   "id": "fcc22ffc",
   "metadata": {},
   "outputs": [],
   "source": [
    "# C-3.48\n",
    "\n",
    "# The fibonacci function is defined in terms of itself, and recalling it's\n",
    "# independent variable leads to an exponential, not linear, function."
   ]
  },
  {
   "cell_type": "code",
   "execution_count": 10,
   "id": "f179e41b",
   "metadata": {},
   "outputs": [],
   "source": [
    "# C-3.49\n",
    "\n",
    "# Base case: n=1, F(1) = 1 >= c*1.5^1    -true\n",
    "#            n=2, F(2) = 2 >= c*1.5^2    -true\n",
    "\n",
    "# Assume F(k-2)+F(k-1) >= c*1.5^k \n",
    "\n",
    "# then for k+1:\n",
    "# F((k+1)-2) + F((k+1)-1) >= c*1.5^(k+1)\n",
    "\n",
    "# Simplify: F(k-1) + F(k) >= C*1.5^k where C = c*1.5"
   ]
  },
  {
   "cell_type": "code",
   "execution_count": 11,
   "id": "7cf7d2e2",
   "metadata": {},
   "outputs": [],
   "source": [
    "# C-3.50\n",
    "\n",
    "# a. for i in n:   \n",
    "#       for a in i:    -these loops together are O(n^2) time\n",
    "\n",
    "\n",
    "# b.\n",
    "#    total = 0\n",
    "#    for i in n:              \n",
    "#       temp = a[i]*x**i   -these together are O(nlogn) time\n",
    "#       total += temp\n",
    "\n",
    "# c. for i in n:\n",
    "#       total += a[i]*x**i  -the Horner's method results in O(n) time  "
   ]
  },
  {
   "cell_type": "code",
   "execution_count": 12,
   "id": "1e4b2a9a",
   "metadata": {},
   "outputs": [
    {
     "data": {
      "text/plain": [
       "4"
      ]
     },
     "execution_count": 12,
     "metadata": {},
     "output_type": "execute_result"
    }
   ],
   "source": [
    "# C-3.51\n",
    "\n",
    "# The number of times a number can be divided by 2 until \n",
    "# reaching a value under 2 is approximately equal to the log base 2 of\n",
    "# that number:\n",
    "\n",
    "# 17 /2 = 8.5 (1)\n",
    "# 8.5/2 = 4.3 (2)\n",
    "# 4.3/2 = 2.1 (3)\n",
    "# 2.1/2 = 1.1 (4)\n",
    "\n",
    "# log2(17) ~=  4\n",
    "\n",
    "def logar(n):\n",
    "    num = n\n",
    "    count = 0\n",
    "    while num > 2: # O(n)\n",
    "        num=num/2  # O(logn)\n",
    "        count += 1\n",
    "    return count\n",
    "\n",
    "logar(17)"
   ]
  },
  {
   "cell_type": "code",
   "execution_count": 13,
   "id": "be1df09b",
   "metadata": {},
   "outputs": [],
   "source": [
    "# C-3.52\n",
    "\n",
    "# The sum from 1 to n of log(i) is big-Omega(nlogn) due to its same growth rate,\n",
    "# making it also big-Theta(nlogn) taking into account the problem before hand."
   ]
  },
  {
   "cell_type": "code",
   "execution_count": 1,
   "id": "0591f122",
   "metadata": {},
   "outputs": [],
   "source": [
    "# C-3.53\n",
    "\n",
    "# We have n bottles and O(log2(n)) taste-testers. We want to determine which\n",
    "# bottle was poisoned. If we represent our bottles as binary numbers, we can use cups\n",
    "# for each binary digit. \n",
    "\n",
    "# Lets say we have n = 5 bottles, and we number each of them:\n",
    "\n",
    "#   Bottle Number |  Binary\n",
    "#   -----------------------\n",
    "#              1  | 0 0 0\n",
    "#              2  | 0 0 1\n",
    "#              3  | 0 1 0\n",
    "#              4  | 0 1 1\n",
    "#              5  | 1 0 0\n",
    "\n",
    "\n",
    "# Five can be written with 3 binary digits; therefore there are 3 cups (one per column).\n",
    "# Wine from each bottle where the column is '1' is added to the respective cup.\n",
    "\n",
    "# Therefore:\n",
    "#  A- CUP1 has 2, 4.  \n",
    "#  B- CUP2 has 3, 4.  \n",
    "#  C- CUP3 has 5.     \n",
    "\n",
    "# If none of the testers die, it was 1.\n",
    "# If A dies, it was 2.\n",
    "# If B dies, it was 3.\n",
    "# If A&B die, it was 4.\n",
    "# If C dies, it was 5\n",
    "\n",
    "# This can be analyzed for any number of bottles."
   ]
  },
  {
   "cell_type": "code",
   "execution_count": 2,
   "id": "a4434960",
   "metadata": {},
   "outputs": [
    {
     "name": "stdout",
     "output_type": "stream",
     "text": [
      "[66, 24, 62, 34, 28, 70, 37, 80, 57, 16, 84, 42, 59, 4, 33, 5, 52, 61, 17, 49, 12, 67, 17, 48, 32]\n"
     ]
    },
    {
     "data": {
      "text/plain": [
       "17"
      ]
     },
     "execution_count": 2,
     "metadata": {},
     "output_type": "execute_result"
    }
   ],
   "source": [
    "from random import randint\n",
    "\n",
    "n = randint(1,100)\n",
    "S = [randint(0, 4*n) for i in range(n)]\n",
    "print(S)\n",
    "\n",
    "def most_frequent(lst):\n",
    "    \n",
    "    elements = {0:0} # O(1)\n",
    "    max_val  = 0     # O(1)\n",
    "    \n",
    "    for ele in S: # O(n)\n",
    "        if ele not in elements: # O(1)\n",
    "            elements[ele] = 1\n",
    "        else:                   # O(1)\n",
    "            elements[ele] += 1\n",
    "    \n",
    "        if elements[ele] > elements[max_val]: # O(1)\n",
    "            max_val = ele\n",
    "            \n",
    "    return max_val # O(1)\n",
    "\n",
    "most_frequent(S) # Linear time O(n)"
   ]
  },
  {
   "cell_type": "code",
   "execution_count": null,
   "id": "3520e182",
   "metadata": {},
   "outputs": [],
   "source": []
  }
 ],
 "metadata": {
  "kernelspec": {
   "display_name": "Python 3",
   "language": "python",
   "name": "python3"
  },
  "language_info": {
   "codemirror_mode": {
    "name": "ipython",
    "version": 3
   },
   "file_extension": ".py",
   "mimetype": "text/x-python",
   "name": "python",
   "nbconvert_exporter": "python",
   "pygments_lexer": "ipython3",
   "version": "3.8.8"
  }
 },
 "nbformat": 4,
 "nbformat_minor": 5
}
