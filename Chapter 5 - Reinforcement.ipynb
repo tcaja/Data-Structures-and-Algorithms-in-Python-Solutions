{
 "cells": [
  {
   "cell_type": "code",
   "execution_count": 1,
   "id": "77ccc53b-3121-4929-b76d-e7d0d6e0164f",
   "metadata": {},
   "outputs": [
    {
     "name": "stdout",
     "output_type": "stream",
     "text": [
      "Length:   0; Size in bytes:   56\n",
      "Length:   1; Size in bytes:   88\n",
      "Length:   2; Size in bytes:   88\n",
      "Length:   3; Size in bytes:   88\n",
      "Length:   4; Size in bytes:   88\n",
      "Length:   5; Size in bytes:  120\n",
      "Length:   6; Size in bytes:  120\n",
      "Length:   7; Size in bytes:  120\n",
      "Length:   8; Size in bytes:  120\n",
      "Length:   9; Size in bytes:  184\n",
      "Length:  10; Size in bytes:  184\n",
      "Length:  11; Size in bytes:  184\n",
      "Length:  12; Size in bytes:  184\n",
      "Length:  13; Size in bytes:  184\n",
      "Length:  14; Size in bytes:  184\n",
      "Length:  15; Size in bytes:  184\n",
      "Length:  16; Size in bytes:  184\n",
      "Length:  17; Size in bytes:  256\n",
      "Length:  18; Size in bytes:  256\n",
      "Length:  19; Size in bytes:  256\n",
      "Length:  20; Size in bytes:  256\n",
      "Length:  21; Size in bytes:  256\n",
      "Length:  22; Size in bytes:  256\n",
      "Length:  23; Size in bytes:  256\n",
      "Length:  24; Size in bytes:  256\n",
      "Length:  25; Size in bytes:  256\n",
      "Length:  26; Size in bytes:  336\n"
     ]
    }
   ],
   "source": [
    "# R-5.1\n",
    "import sys\n",
    "data = []\n",
    "for k in range(27):\n",
    "    a = len(data)\n",
    "    b = sys.getsizeof(data)\n",
    "    print('Length: {0:3d}; Size in bytes: {1:4d}'.format(a, b))\n",
    "    data.append(None)"
   ]
  },
  {
   "cell_type": "code",
   "execution_count": 2,
   "id": "89be17a8-9eef-4e1c-92ab-217830c1fa82",
   "metadata": {},
   "outputs": [
    {
     "name": "stdout",
     "output_type": "stream",
     "text": [
      "Length:   0; Size in bytes:   56\n",
      "Length:   4; Size in bytes:   88\n",
      "Length:   8; Size in bytes:  120\n",
      "Length:  16; Size in bytes:  184\n",
      "Length:  25; Size in bytes:  256\n"
     ]
    }
   ],
   "source": [
    "# R-5.2\n",
    "import sys\n",
    "data = []\n",
    "for k in range(27):\n",
    "    a = len(data)\n",
    "    b = sys.getsizeof(data)\n",
    "    data.append(None)\n",
    "    c = sys.getsizeof(data)\n",
    "    if c > b:\n",
    "        print('Length: {0:3d}; Size in bytes: {1:4d}'.format(a, b))"
   ]
  },
  {
   "cell_type": "code",
   "execution_count": 3,
   "id": "da23c403-ddbd-4106-9e22-f04eb7112c36",
   "metadata": {},
   "outputs": [
    {
     "name": "stdout",
     "output_type": "stream",
     "text": [
      "Length:   0; Size in bytes:   56\n",
      "Length:   1; Size in bytes:   88\n",
      "Length:   2; Size in bytes:   88\n",
      "Length:   3; Size in bytes:   88\n",
      "Length:   4; Size in bytes:   88\n",
      "Length:   5; Size in bytes:  120\n",
      "Length:   6; Size in bytes:  120\n",
      "Length:   7; Size in bytes:  120\n",
      "Length:   8; Size in bytes:  120\n",
      "Length:   9; Size in bytes:  184\n",
      "Length:  10; Size in bytes:  184\n",
      "Length:   2; Size in bytes:   96\n",
      "Length:   3; Size in bytes:   96\n",
      "Length:   4; Size in bytes:   96\n",
      "Length:   5; Size in bytes:   96\n",
      "Length:   6; Size in bytes:  128\n"
     ]
    }
   ],
   "source": [
    "# R-5.3\n",
    "import sys\n",
    "data = []\n",
    "for k in range(16):\n",
    "    a = len(data)\n",
    "    b = sys.getsizeof(data)\n",
    "    print('Length: {0:3d}; Size in bytes: {1:4d}'.format(a, b))\n",
    "    if k%10==0 and a != 0:\n",
    "        for i in range(8):\n",
    "            data.pop()\n",
    "    else:\n",
    "        data.append(None)"
   ]
  },
  {
   "cell_type": "code",
   "execution_count": 4,
   "id": "3198220d-dc6d-4452-9d6a-38d1864910cf",
   "metadata": {},
   "outputs": [
    {
     "data": {
      "text/plain": [
       "5"
      ]
     },
     "execution_count": 4,
     "metadata": {},
     "output_type": "execute_result"
    }
   ],
   "source": [
    "# R-5.4\n",
    "import ctypes\n",
    "\n",
    "class DynamicArray:\n",
    "    \n",
    "    def __init__(self):\n",
    "        self._n = 0\n",
    "        self._capacity = 1\n",
    "        self._A = self._make_array(self._capacity)\n",
    "        \n",
    "    def __len__(self):\n",
    "        return self._n\n",
    "    \n",
    "    def __getitem__(self, k):\n",
    "        if not -self._n <= k < self._n:\n",
    "            raise IndexError('invalid index')\n",
    "        return self._A[k]\n",
    "    \n",
    "    def append(self, obj):\n",
    "        if self._n == self._capacity:\n",
    "            self._resize(2 * self._capacity)\n",
    "        self._A[self._n] = obj\n",
    "        self._n += 1\n",
    "        \n",
    "    def _resize(self, c):\n",
    "        B = self._make_array(c)\n",
    "        for k in range(self._n):\n",
    "            B[k] = self._A[k]\n",
    "        self._A = B\n",
    "        self._capacity = c\n",
    "            \n",
    "    def _make_array(self, c):\n",
    "        return (c*ctypes.py_object)()\n",
    "\n",
    "x = DynamicArray()\n",
    "x.append(5)\n",
    "x[-1]"
   ]
  },
  {
   "cell_type": "code",
   "execution_count": null,
   "id": "0a64c46e-d0f5-45e2-b3bd-0d40e40a31da",
   "metadata": {},
   "outputs": [],
   "source": [
    "# R-5.5\n",
    "\n",
    "# One append operation costs $1.\n",
    "# Growing the array from k to 2k costs $3k.\n",
    "\n",
    "# The equation I have found:\n",
    "# E(x) = (x-1)(2^(i-1))\n",
    "\n",
    "# The function E above gives the number of 'Extra' dollars left over.\n",
    "# Here, x is the amount charged for each append operation, and i is the exponent of 2\n",
    "# regarding the length of the list.\n",
    "\n",
    "# If we double the array from 8 to 16, or k to 2k, we see here that k=8, and the cost \n",
    "# of doubling the array is 3k, or 24. Thus, we know we need 24 'Extra' dollars to double\n",
    "# the array from 8 to 16. \n",
    "\n",
    "# Note that changing from 8 to 16 is the same as 2^3 to 2^4. We let i=3, the value of \n",
    "# the lower exponent, and trial and error a value for x to get 24:\n",
    "\n",
    "# E(x) = (x-1)(2^(i-1))\n",
    "# E(7) = (7-1)(2^(3-1))\n",
    "# E(7) = (6)(2^2)\n",
    "# E(7) = (6)(4) = 24\n",
    "\n",
    "# Therefore, we charge each append operation $7 to account for \n",
    "# the new cost of growing an array."
   ]
  },
  {
   "cell_type": "code",
   "execution_count": 1,
   "id": "73e00c18-99f7-4850-84d2-5917308259ce",
   "metadata": {},
   "outputs": [
    {
     "data": {
      "text/plain": [
       "[1, 2, 2.5, 3, 4]"
      ]
     },
     "execution_count": 1,
     "metadata": {},
     "output_type": "execute_result"
    }
   ],
   "source": [
    "# R-5.6\n",
    "import ctypes\n",
    "\n",
    "class DynamicArray:\n",
    "    \n",
    "    def __init__(self):\n",
    "        self._n = 0\n",
    "        self._capacity = 1\n",
    "        self._A = self._make_array(self._capacity)\n",
    "        \n",
    "    def __len__(self):\n",
    "        return self._n\n",
    "    \n",
    "    def __getitem__(self, k):\n",
    "        if not -self._n <= k < self._n:\n",
    "            raise IndexError('invalid index')\n",
    "        return self._A[k]\n",
    "    \n",
    "    def append(self, obj):\n",
    "        if self._n == self._capacity:\n",
    "            self._resize(2 * self._capacity)\n",
    "        self._A[self._n] = obj\n",
    "        self._n += 1\n",
    "        \n",
    "    def insert(self, k, val):\n",
    "        if self._n == self._capacity:\n",
    "            B = self._make_array(2 * self._capacity)\n",
    "            for i in range(self._n):\n",
    "                if i<k:\n",
    "                    B[i] = self._A[i]\n",
    "                else:\n",
    "                    B[i+1] = self._A[i] #leave null slot for k's value\n",
    "            self._A = B\n",
    "            self._capacity = 2 * self._capacity\n",
    "        else:\n",
    "            for j in range(self._n, k, -1):\n",
    "                self._A[j] = self._A[j-1]\n",
    "        self._A[k] = val\n",
    "        self._n += 1\n",
    "        \n",
    "    def _resize(self, c):\n",
    "        B = self._make_array(c)\n",
    "        for k in range(self._n):\n",
    "            B[k] = self._A[k]\n",
    "        self._A = B\n",
    "        self._capacity = c\n",
    "            \n",
    "    def _make_array(self, c):\n",
    "        return (c*ctypes.py_object)()\n",
    "    \n",
    "x=DynamicArray()\n",
    "x.append(1)\n",
    "x.append(2)\n",
    "x.append(3)\n",
    "x.append(4) # x = [1,2,3,4] and will resize for one more element.\n",
    "x.insert(2, 2.5)\n",
    "list(x)"
   ]
  },
  {
   "cell_type": "code",
   "execution_count": 2,
   "id": "f81ea2e2-8e76-4ca4-be31-f77fe2e0d7a1",
   "metadata": {},
   "outputs": [
    {
     "data": {
      "text/plain": [
       "5"
      ]
     },
     "execution_count": 2,
     "metadata": {},
     "output_type": "execute_result"
    }
   ],
   "source": [
    "# R-5.7\n",
    "def find_repeated(S):\n",
    "    zeros = [0]*len(S) #O(n)\n",
    "    for ele in S:      #O(n)\n",
    "        if zeros[ele]: return ele\n",
    "        else: zeros[ele] = 1   \n",
    "    return 'No duplicates!'\n",
    "#O(n) + O(n) = O(2n) is O(n)\n",
    "find_repeated([5,4,2,5,3,1])"
   ]
  },
  {
   "cell_type": "code",
   "execution_count": 1,
   "id": "71e8e2c5-5f05-4564-b641-7ed00011f06a",
   "metadata": {},
   "outputs": [
    {
     "data": {
      "text/html": [
       "<div>\n",
       "<style scoped>\n",
       "    .dataframe tbody tr th:only-of-type {\n",
       "        vertical-align: middle;\n",
       "    }\n",
       "\n",
       "    .dataframe tbody tr th {\n",
       "        vertical-align: top;\n",
       "    }\n",
       "\n",
       "    .dataframe thead th {\n",
       "        text-align: right;\n",
       "    }\n",
       "</style>\n",
       "<table border=\"1\" class=\"dataframe\">\n",
       "  <thead>\n",
       "    <tr style=\"text-align: right;\">\n",
       "      <th></th>\n",
       "      <th>Length</th>\n",
       "      <th>Time</th>\n",
       "      <th>Index</th>\n",
       "    </tr>\n",
       "  </thead>\n",
       "  <tbody>\n",
       "    <tr>\n",
       "      <th>0</th>\n",
       "      <td>100</td>\n",
       "      <td>0.0</td>\n",
       "      <td>0</td>\n",
       "    </tr>\n",
       "    <tr>\n",
       "      <th>1</th>\n",
       "      <td>100</td>\n",
       "      <td>0.0</td>\n",
       "      <td>50</td>\n",
       "    </tr>\n",
       "    <tr>\n",
       "      <th>2</th>\n",
       "      <td>100</td>\n",
       "      <td>0.0</td>\n",
       "      <td>99</td>\n",
       "    </tr>\n",
       "    <tr>\n",
       "      <th>3</th>\n",
       "      <td>1000</td>\n",
       "      <td>0.0</td>\n",
       "      <td>0</td>\n",
       "    </tr>\n",
       "    <tr>\n",
       "      <th>4</th>\n",
       "      <td>1000</td>\n",
       "      <td>0.0</td>\n",
       "      <td>500</td>\n",
       "    </tr>\n",
       "    <tr>\n",
       "      <th>5</th>\n",
       "      <td>1000</td>\n",
       "      <td>0.0</td>\n",
       "      <td>999</td>\n",
       "    </tr>\n",
       "    <tr>\n",
       "      <th>6</th>\n",
       "      <td>10000</td>\n",
       "      <td>0.0</td>\n",
       "      <td>0</td>\n",
       "    </tr>\n",
       "    <tr>\n",
       "      <th>7</th>\n",
       "      <td>10000</td>\n",
       "      <td>0.0</td>\n",
       "      <td>5000</td>\n",
       "    </tr>\n",
       "    <tr>\n",
       "      <th>8</th>\n",
       "      <td>10000</td>\n",
       "      <td>0.0</td>\n",
       "      <td>9999</td>\n",
       "    </tr>\n",
       "    <tr>\n",
       "      <th>9</th>\n",
       "      <td>100000</td>\n",
       "      <td>0.0</td>\n",
       "      <td>0</td>\n",
       "    </tr>\n",
       "    <tr>\n",
       "      <th>10</th>\n",
       "      <td>100000</td>\n",
       "      <td>0.0</td>\n",
       "      <td>50000</td>\n",
       "    </tr>\n",
       "    <tr>\n",
       "      <th>11</th>\n",
       "      <td>100000</td>\n",
       "      <td>0.0</td>\n",
       "      <td>99999</td>\n",
       "    </tr>\n",
       "    <tr>\n",
       "      <th>12</th>\n",
       "      <td>1000000</td>\n",
       "      <td>0.0</td>\n",
       "      <td>0</td>\n",
       "    </tr>\n",
       "    <tr>\n",
       "      <th>13</th>\n",
       "      <td>1000000</td>\n",
       "      <td>0.0</td>\n",
       "      <td>500000</td>\n",
       "    </tr>\n",
       "    <tr>\n",
       "      <th>14</th>\n",
       "      <td>1000000</td>\n",
       "      <td>0.0</td>\n",
       "      <td>999999</td>\n",
       "    </tr>\n",
       "  </tbody>\n",
       "</table>\n",
       "</div>"
      ],
      "text/plain": [
       "     Length  Time   Index\n",
       "0       100   0.0       0\n",
       "1       100   0.0      50\n",
       "2       100   0.0      99\n",
       "3      1000   0.0       0\n",
       "4      1000   0.0     500\n",
       "5      1000   0.0     999\n",
       "6     10000   0.0       0\n",
       "7     10000   0.0    5000\n",
       "8     10000   0.0    9999\n",
       "9    100000   0.0       0\n",
       "10   100000   0.0   50000\n",
       "11   100000   0.0   99999\n",
       "12  1000000   0.0       0\n",
       "13  1000000   0.0  500000\n",
       "14  1000000   0.0  999999"
      ]
     },
     "execution_count": 1,
     "metadata": {},
     "output_type": "execute_result"
    }
   ],
   "source": [
    "# R-5.8\n",
    "import pandas as pd\n",
    "from time import time\n",
    "\n",
    "def pop_average(S, k):\n",
    "    Z = S.copy()\n",
    "    start = time()\n",
    "    Z.pop(k)\n",
    "    end = time()\n",
    "    avg = (end-start)/len(S)\n",
    "    return [len(S), avg, k]\n",
    "\n",
    "N = [list(range(100)), list(range(1000)), list(range(10000)), \\\n",
    "     list(range(100000)), list(range(1000000))]\n",
    "\n",
    "lst=[]\n",
    "for i in range(len(N)):\n",
    "    for j in [0, len(N[i])//2, len(N[i])-1]:\n",
    "        lst.append(pop_average(N[i], j))\n",
    "\n",
    "df = pd.DataFrame(lst, columns=['Length', 'Time', 'Index'])\n",
    "df"
   ]
  },
  {
   "cell_type": "code",
   "execution_count": 3,
   "id": "530f9f0c-f431-4085-882a-039946385a5f",
   "metadata": {},
   "outputs": [
    {
     "name": "stdout",
     "output_type": "stream",
     "text": [
      "Secret:  ΢ ΔΘΧ΢Φ ΣΔΜΙΘΜ? ΦΨΠΔΠΧΚΦΘ ΟΔΦ\n",
      "Message: ΢ ΑΕΤ΢Σ ΠΑΙΖΕΙ? ΣΥΝΑΝΤΗΣΕ ΜΑΣ\n"
     ]
    }
   ],
   "source": [
    "# R-5.9\n",
    "\n",
    "# Change alphabet size from 26 to 24 for Greek Alphabet\n",
    "class CaesarCipherGreek:\n",
    "    \"\"\"Class for doing encryption and decryption using a Caesar cipher.\"\"\"\n",
    "\n",
    "    def __init__(self, shift):\n",
    "        \"\"\"Construct Caesar cipher using given integer shift for rotation.\"\"\"\n",
    "        encoder = [None] * 24                           # temp array for encryption\n",
    "        decoder = [None] * 24                           # temp array for decryption\n",
    "        for k in range(24):\n",
    "            encoder[k] = chr((k + shift) % 24 + ord('Α'))\n",
    "            decoder[k] = chr((k - shift) % 24 + ord('Α'))\n",
    "        self._forward = ''.join(encoder)                # will store as string\n",
    "        self._backward = ''.join(decoder)               # since fixed\n",
    "\n",
    "    def encrypt(self, message):\n",
    "        \"\"\"Return string representing encripted message.\"\"\"\n",
    "        return self._transform(message, self._forward)\n",
    "\n",
    "    def decrypt(self, secret):\n",
    "        \"\"\"Return decrypted message given encrypted secret.\"\"\"\n",
    "        return self._transform(secret, self._backward)\n",
    "\n",
    "    def _transform(self, original, code):\n",
    "        \"\"\"Utility to perform transformation based on given code string.\"\"\"\n",
    "        msg = list(original)\n",
    "        for k in range(len(msg)):\n",
    "            if msg[k].isupper():\n",
    "                j = ord(msg[k]) - ord('Α') # index from 0 to 24\n",
    "                msg[k] = code[j]                            # replace this character\n",
    "        return ''.join(msg)\n",
    "\n",
    "if __name__ == '__main__':\n",
    "    cipher = CaesarCipherGreek(3)\n",
    "    message = \"Ο ΑΕΤΟΣ ΠΑΙΖΕΙ? ΣΥΝΑΝΤΗΣΕ ΜΑΣ\"\n",
    "    coded = cipher.encrypt(message)\n",
    "    print('Secret: ', coded)\n",
    "    answer = cipher.decrypt(coded)\n",
    "    print('Message:', answer)"
   ]
  },
  {
   "cell_type": "code",
   "execution_count": 4,
   "id": "7a4df469-3f90-4fb5-bc51-c02c6fb5db84",
   "metadata": {},
   "outputs": [
    {
     "name": "stdout",
     "output_type": "stream",
     "text": [
      "Secret:  WKH HDJOH LV LQ SODB; PHHW DW MRH'V.\n",
      "Message: THE EAGLE IS IN PLAY; MEET AT JOE'S.\n"
     ]
    }
   ],
   "source": [
    "# R-5.10\n",
    "class CaesarCipher:\n",
    "    \"\"\"Class for doing encryption and decryption using a Caesar cipher.\"\"\"\n",
    "\n",
    "    def __init__(self, shift):\n",
    "        \"\"\"Construct Caesar cipher using given integer shift for rotation.\"\"\"\n",
    "        self._forward = ''.join([chr((k+shift)%26+ord('A')) for k in range(26)])     \n",
    "        self._backward = ''.join([chr((k-shift)%26+ord('A')) for k in range(26)])               \n",
    "\n",
    "    def encrypt(self, message):\n",
    "        \"\"\"Return string representing encripted message.\"\"\"\n",
    "        return self._transform(message, self._forward)\n",
    "\n",
    "    def decrypt(self, secret):\n",
    "        \"\"\"Return decrypted message given encrypted secret.\"\"\"\n",
    "        return self._transform(secret, self._backward)\n",
    "\n",
    "    def _transform(self, original, code):\n",
    "        \"\"\"Utility to perform transformation based on given code string.\"\"\"\n",
    "        msg = list(original)\n",
    "        for k in range(len(msg)):\n",
    "            if msg[k].isupper():\n",
    "                j = ord(msg[k]) - ord('A')                  # index from 0 to 25\n",
    "                msg[k] = code[j]                            # replace this character\n",
    "        return ''.join(msg)\n",
    "\n",
    "if __name__ == '__main__':\n",
    "    cipher = CaesarCipher(3)\n",
    "    message = \"THE EAGLE IS IN PLAY; MEET AT JOE'S.\"\n",
    "    coded = cipher.encrypt(message)\n",
    "    print('Secret: ', coded)\n",
    "    answer = cipher.decrypt(coded)\n",
    "    print('Message:', answer)"
   ]
  },
  {
   "cell_type": "code",
   "execution_count": 5,
   "id": "31e17e04-a37c-43e6-8963-fca9ba9a0f71",
   "metadata": {},
   "outputs": [
    {
     "name": "stdout",
     "output_type": "stream",
     "text": [
      "[[2, 12, 0], [21, 11, 6], [6, 5, 20]]\n"
     ]
    },
    {
     "data": {
      "text/plain": [
       "83"
      ]
     },
     "execution_count": 5,
     "metadata": {},
     "output_type": "execute_result"
    }
   ],
   "source": [
    "# R-5.11\n",
    "from random import randint\n",
    "data = [ [randint(0,21), \n",
    "          randint(0,21), \n",
    "          randint(0,21)] for i in range(3) ]\n",
    "print(data)\n",
    "total = 0\n",
    "for i in range(len(data)):\n",
    "    for j in range(len(data)):\n",
    "        total+=data[i][j]\n",
    "total"
   ]
  },
  {
   "cell_type": "code",
   "execution_count": 6,
   "id": "30e098b8-12fa-4ca2-bb07-7bbab4fe2cf7",
   "metadata": {},
   "outputs": [
    {
     "data": {
      "text/plain": [
       "83"
      ]
     },
     "execution_count": 6,
     "metadata": {},
     "output_type": "execute_result"
    }
   ],
   "source": [
    "# R-5.12\n",
    "sum([data[i][j] for i in range(len(data)) for j in range(len(data))])"
   ]
  }
 ],
 "metadata": {
  "kernelspec": {
   "display_name": "Python 3",
   "language": "python",
   "name": "python3"
  },
  "language_info": {
   "codemirror_mode": {
    "name": "ipython",
    "version": 3
   },
   "file_extension": ".py",
   "mimetype": "text/x-python",
   "name": "python",
   "nbconvert_exporter": "python",
   "pygments_lexer": "ipython3",
   "version": "3.8.8"
  }
 },
 "nbformat": 4,
 "nbformat_minor": 5
}
