{
 "cells": [
  {
   "cell_type": "markdown",
   "id": "7a1dcf43",
   "metadata": {},
   "source": [
    "Chapter 1 - Creativity"
   ]
  },
  {
   "cell_type": "code",
   "execution_count": 1,
   "id": "a1800f25",
   "metadata": {},
   "outputs": [
    {
     "name": "stdout",
     "output_type": "stream",
     "text": [
      "[2, 3, 9, 7, 4]\n"
     ]
    },
    {
     "data": {
      "text/plain": [
       "[2, 3, 9, 7, 4]"
      ]
     },
     "execution_count": 1,
     "metadata": {},
     "output_type": "execute_result"
    }
   ],
   "source": [
    "# C-1.13\n",
    "def my_reverse(lseq):\n",
    "    return [lseq[-1]] + lseq[-2:-len(lseq):-1] + [lseq[0]] \n",
    "\n",
    "print( my_reverse([4, 7, 9, 3, 2]) ) # user defined function\n",
    "list( reversed([4, 7, 9, 3, 2]) ) # built-in 'reversed' function"
   ]
  },
  {
   "cell_type": "code",
   "execution_count": 2,
   "id": "a6af8d94",
   "metadata": {},
   "outputs": [
    {
     "name": "stdout",
     "output_type": "stream",
     "text": [
      "True\n",
      "False\n"
     ]
    }
   ],
   "source": [
    "# C-1.14\n",
    "def odd_product_exists(seq): # This function confirms such product exists in sequence\n",
    "    for n1 in seq:           \n",
    "        for n2 in seq:\n",
    "            if n1 != n2 and (n1*n2)%2==1:\n",
    "                return True\n",
    "    return False\n",
    "\n",
    "print(odd_product_exists([2,4,1,5]))\n",
    "print(odd_product_exists([8,16,1,0]))"
   ]
  },
  {
   "cell_type": "code",
   "execution_count": 3,
   "id": "2b181c0b",
   "metadata": {},
   "outputs": [
    {
     "name": "stdout",
     "output_type": "stream",
     "text": [
      "True\n",
      "False\n"
     ]
    }
   ],
   "source": [
    "# C-1.15\n",
    "def uniq_vals(seq):\n",
    "    for n in range(len(seq)):          # Work this loop on a piece of paper with a small sequence(list, tuple, etc.)\n",
    "        for m in range(n+1, len(seq)): \n",
    "            if seq[n] == seq[m]:\n",
    "                return False\n",
    "    return True\n",
    "\n",
    "print(uniq_vals([3,9,1]))\n",
    "print(uniq_vals([3,9,1,1]))"
   ]
  },
  {
   "cell_type": "code",
   "execution_count": 4,
   "id": "097bf76c",
   "metadata": {},
   "outputs": [],
   "source": [
    "# C-1.16\n",
    "# Looking at data[j] *= factor,\n",
    "# we see that data itself is a mutable list.\n",
    "# Therefore, immutable elements are reassigned to\n",
    "# the new values, but in the conents of the original list."
   ]
  },
  {
   "cell_type": "code",
   "execution_count": 5,
   "id": "1d3f6597",
   "metadata": {},
   "outputs": [
    {
     "name": "stdout",
     "output_type": "stream",
     "text": [
      "[0.5, 1.5, 2.5, 3.5]\n"
     ]
    },
    {
     "data": {
      "text/plain": [
       "[1, 3, 5, 7]"
      ]
     },
     "execution_count": 5,
     "metadata": {},
     "output_type": "execute_result"
    }
   ],
   "source": [
    "# C-1.17\n",
    "def scale(data, factor):         # This function changes the mutable list passed as data by\n",
    "    for j in range(len(data)):   # accessing data with its index, data[j], mutating its \n",
    "        data[j] *= factor        # original values and subsequently returning the list.\n",
    "    return data\n",
    "\n",
    "print( str( scale([1,3,5,7], 0.5)) ) # We see values are correctly scaled.\n",
    "\n",
    "\n",
    "def scale_2(data, factor):    # This function, however, does not address the data list directly    \n",
    "    for val in data:          # but accesses the identifier, val, and multiples this loop variable\n",
    "        val *= factor         # each time the loop executes.\n",
    "    return data\n",
    "\n",
    "scale_2([1,3,5,7], 0.5) # Therefore we see the list was not scaled."
   ]
  },
  {
   "cell_type": "code",
   "execution_count": 6,
   "id": "5ca3d97d",
   "metadata": {},
   "outputs": [
    {
     "data": {
      "text/plain": [
       "[0, 2, 6, 12, 20, 30, 42, 56, 72, 90]"
      ]
     },
     "execution_count": 6,
     "metadata": {},
     "output_type": "execute_result"
    }
   ],
   "source": [
    "# C-1.18\n",
    "\n",
    "# New to python 3.8 is the walrus operator ':=', \n",
    "# which in this case allows an assignment in \n",
    "# list comprehension.\n",
    "\n",
    "k=0\n",
    "[k := k+i for i in range(0,19,2)]"
   ]
  },
  {
   "cell_type": "code",
   "execution_count": 7,
   "id": "04c56c81",
   "metadata": {},
   "outputs": [
    {
     "data": {
      "text/plain": [
       "['a',\n",
       " 'b',\n",
       " 'c',\n",
       " 'd',\n",
       " 'e',\n",
       " 'f',\n",
       " 'g',\n",
       " 'h',\n",
       " 'i',\n",
       " 'j',\n",
       " 'k',\n",
       " 'l',\n",
       " 'm',\n",
       " 'n',\n",
       " 'o',\n",
       " 'p',\n",
       " 'q',\n",
       " 'r',\n",
       " 's',\n",
       " 't',\n",
       " 'u',\n",
       " 'v',\n",
       " 'w',\n",
       " 'x',\n",
       " 'y',\n",
       " 'z']"
      ]
     },
     "execution_count": 7,
     "metadata": {},
     "output_type": "execute_result"
    }
   ],
   "source": [
    "# C-1.19\n",
    "\n",
    "[chr(l) for l in range(97,123)] # chr(97) returns 'a'"
   ]
  },
  {
   "cell_type": "code",
   "execution_count": 8,
   "id": "24dc4e8f",
   "metadata": {},
   "outputs": [
    {
     "data": {
      "text/plain": [
       "[1, 'hi', 8, 9.9]"
      ]
     },
     "execution_count": 8,
     "metadata": {},
     "output_type": "execute_result"
    }
   ],
   "source": [
    "# C-1.20\n",
    "from random import randint\n",
    "def my_shuffle(data):\n",
    "    h = len(data)-1  # h is the possible highest index\n",
    "    for i in range(len(data)):\n",
    "        r = randint(0, h)\n",
    "        data[r], data[h-i] = data[h-i], data[r]\n",
    "        \n",
    "data = ['hi', 8, 9.9, 1]\n",
    "my_shuffle(data)\n",
    "data"
   ]
  },
  {
   "cell_type": "code",
   "execution_count": 9,
   "id": "bef47499",
   "metadata": {},
   "outputs": [
    {
     "name": "stdout",
     "output_type": "stream",
     "text": [
      "Let's Dance.\n",
      "I can eat while dancing.\n",
      "\n",
      "I can eat while dancing.\n",
      "Let's Dance.\n"
     ]
    }
   ],
   "source": [
    "# C-1.21\n",
    "promps = []\n",
    "while True:\n",
    "    try:\n",
    "        prompt = input()\n",
    "        if prompt == '': \n",
    "            raise EOFError\n",
    "        promps.append(prompt)\n",
    "    except EOFError:\n",
    "        for entry in reversed(promps):\n",
    "            print(entry)\n",
    "        break"
   ]
  },
  {
   "cell_type": "code",
   "execution_count": 10,
   "id": "8fae916a",
   "metadata": {},
   "outputs": [
    {
     "data": {
      "text/plain": [
       "[5, 12, 21, 32]"
      ]
     },
     "execution_count": 10,
     "metadata": {},
     "output_type": "execute_result"
    }
   ],
   "source": [
    "# C-1.22\n",
    "def dot_product(x, y):\n",
    "    if len(x) != len(y):\n",
    "        print('Arrays must be same length and contain integers.')\n",
    "        return\n",
    "    c = [x[i] * y[i] for i in range(len(x))]\n",
    "    return c\n",
    "\n",
    "a = [1, 2, 3, 4]\n",
    "b = [5, 6, 7, 8]\n",
    "dot_product(a, b)"
   ]
  },
  {
   "cell_type": "code",
   "execution_count": 11,
   "id": "23ec5ddc",
   "metadata": {},
   "outputs": [
    {
     "name": "stdout",
     "output_type": "stream",
     "text": [
      "Dont try buffer overflow attacks in Python!\n"
     ]
    }
   ],
   "source": [
    "# C-1.23\n",
    "x = list(range(0,10))\n",
    "try:\n",
    "    x[10] = 81\n",
    "except IndexError:\n",
    "    print('Dont try buffer overflow attacks in Python!')"
   ]
  },
  {
   "cell_type": "code",
   "execution_count": 15,
   "id": "9a60f052",
   "metadata": {},
   "outputs": [
    {
     "data": {
      "text/plain": [
       "4"
      ]
     },
     "execution_count": 15,
     "metadata": {},
     "output_type": "execute_result"
    }
   ],
   "source": [
    "# C-1.24\n",
    "def vowel_count(string):\n",
    "    string.lower()\n",
    "    count = 0\n",
    "    [count:=count+1 for x in string if x in 'aeiou']\n",
    "    return count\n",
    "\n",
    "vowel_count('Hello there!')    "
   ]
  },
  {
   "cell_type": "code",
   "execution_count": 13,
   "id": "e481193e",
   "metadata": {},
   "outputs": [
    {
     "data": {
      "text/plain": [
       "'Wait what didnt you say'"
      ]
     },
     "execution_count": 13,
     "metadata": {},
     "output_type": "execute_result"
    }
   ],
   "source": [
    "# C-1.25\n",
    "def no_punct(sentence):\n",
    "    lst = list(sentence)\n",
    "    for i in range(len(lst)):\n",
    "        if lst[i] in (\"'\", ':', ';', '.', ',', '!', '?'):\n",
    "            lst[i] = ''\n",
    "    return ''.join(lst)\n",
    "\n",
    "no_punct(\"Wait, what didn't you say!?\")"
   ]
  },
  {
   "cell_type": "code",
   "execution_count": 14,
   "id": "12cf0cd2",
   "metadata": {},
   "outputs": [
    {
     "name": "stdout",
     "output_type": "stream",
     "text": [
      "False for + - * /\n",
      "\n",
      "True for addition\n",
      "True for multiplaction\n",
      "\n"
     ]
    }
   ],
   "source": [
    "# C-1.26\n",
    "def arithmetic(a, b, c):\n",
    "    flag = 0\n",
    "    if a+b==c: \n",
    "        print('True for addition')\n",
    "        flag = 1\n",
    "    if a-b==c: \n",
    "        print('True for subtraction')\n",
    "        flag = 1\n",
    "    if a*b==c: \n",
    "        print('True for multiplaction')\n",
    "        flag = 1\n",
    "    if a/b==c: \n",
    "        print('True for division')\n",
    "        flag = 1\n",
    "    if flag == 0:\n",
    "        print('False for + - * /')\n",
    "    return ''\n",
    "    \n",
    "print(arithmetic(1,3,99))\n",
    "print(arithmetic(2, 2, 4))"
   ]
  },
  {
   "cell_type": "code",
   "execution_count": 16,
   "id": "e0893f54",
   "metadata": {},
   "outputs": [
    {
     "name": "stdout",
     "output_type": "stream",
     "text": [
      "1\n",
      "2\n",
      "4\n",
      "5\n",
      "10\n",
      "20\n",
      "25\n",
      "50\n",
      "100\n"
     ]
    }
   ],
   "source": [
    "# C-1.27\n",
    "def factors(n):\n",
    "    k = 1\n",
    "    large_factors = []\n",
    "    while k*k < n: # while k < sqrt(n)\n",
    "        if n % k == 0:\n",
    "            yield k \n",
    "            large_factors.append(n//k)\n",
    "        k+=1\n",
    "    if k*k == n: # special case for perfect square\n",
    "        yield k\n",
    "    for f in reversed(large_factors):\n",
    "        yield f\n",
    "        \n",
    "  \n",
    "x = factors(100)\n",
    "for i in range(0,9):\n",
    "    print(next(x))  "
   ]
  },
  {
   "cell_type": "code",
   "execution_count": 17,
   "id": "49bd3171",
   "metadata": {},
   "outputs": [
    {
     "name": "stdout",
     "output_type": "stream",
     "text": [
      "5.0\n",
      "8.224639871220099\n"
     ]
    }
   ],
   "source": [
    "# C-1.28\n",
    "def norm(v, p=2):\n",
    "    s = 0\n",
    "    for i in range(len(v)):\n",
    "        s += v[i]**p\n",
    "    norm = s**(1/p)\n",
    "    return norm\n",
    "\n",
    "print(norm([4,3]))\n",
    "print(norm([3,6,8], 6))        "
   ]
  },
  {
   "cell_type": "code",
   "execution_count": null,
   "id": "d14fb6c5",
   "metadata": {},
   "outputs": [],
   "source": []
  }
 ],
 "metadata": {
  "kernelspec": {
   "display_name": "Python 3",
   "language": "python",
   "name": "python3"
  },
  "language_info": {
   "codemirror_mode": {
    "name": "ipython",
    "version": 3
   },
   "file_extension": ".py",
   "mimetype": "text/x-python",
   "name": "python",
   "nbconvert_exporter": "python",
   "pygments_lexer": "ipython3",
   "version": "3.8.8"
  }
 },
 "nbformat": 4,
 "nbformat_minor": 5
}
