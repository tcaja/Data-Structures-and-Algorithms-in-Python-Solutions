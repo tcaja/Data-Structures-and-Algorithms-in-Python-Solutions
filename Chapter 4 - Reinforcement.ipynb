{
 "cells": [
  {
   "cell_type": "code",
   "execution_count": 1,
   "id": "e1a31581",
   "metadata": {},
   "outputs": [
    {
     "data": {
      "text/plain": [
       "9"
      ]
     },
     "execution_count": 1,
     "metadata": {},
     "output_type": "execute_result"
    }
   ],
   "source": [
    "# R-4.1\n",
    "def find_max(S, index=0):\n",
    "    if index == len(S)-1: # O(1)\n",
    "        return S[-1] # O(1)\n",
    "    maxi = S[index] # O(1)\n",
    "    return max(maxi, find_max(S,index+1)) # max function is O(n) with n recurrances.\n",
    "    \n",
    "# Therefore, the time complexity is O(n^2).\n",
    "S = [8,4,3,9]\n",
    "find_max(S)"
   ]
  },
  {
   "cell_type": "code",
   "execution_count": 2,
   "id": "bd12a1d2",
   "metadata": {},
   "outputs": [
    {
     "name": "stdout",
     "output_type": "stream",
     "text": [
      "32\n"
     ]
    }
   ],
   "source": [
    "# R-4.2\n",
    "def power(x, n):\n",
    "    if n == 0:\n",
    "        return 1\n",
    "    else:\n",
    "        return x * power(x, n-1)\n",
    "    \n",
    "print(power(2, 5))\n",
    "\n",
    "# power(2, 5)\n",
    "# |\n",
    "# ---> return 2*power(2, 4)\n",
    "#                |\n",
    "#                ---> return 2*power(2, 3)\n",
    "#                              |\n",
    "#                              ---> return 2*power(2, 2)\n",
    "#                                            |\n",
    "#                                            ---> return 2*power(2,1)\n",
    "#                                                          |\n",
    "#                                                          ---> return 2*1"
   ]
  },
  {
   "cell_type": "code",
   "execution_count": 1,
   "id": "60125996",
   "metadata": {},
   "outputs": [
    {
     "data": {
      "text/plain": [
       "262144"
      ]
     },
     "execution_count": 1,
     "metadata": {},
     "output_type": "execute_result"
    }
   ],
   "source": [
    "# R-4.3\n",
    "def power(x, n):\n",
    "    if n == 0:\n",
    "        return 1\n",
    "    else:\n",
    "        partial = power(x, n//2)\n",
    "        result = partial**2\n",
    "        if n % 2 == 1:\n",
    "            result *= x\n",
    "        return result\n",
    "    \n",
    "power(2, 18)\n",
    "\n",
    "# power(2, 18)                                                    -returns 512 and finishes with 2*512^2 = 262144\n",
    "# |\n",
    "# ---> return 2*power(2, 9)                                           -returns 64\n",
    "#                |\n",
    "#                ---> return 2*power(2, 4)                                -returns 16\n",
    "#                              |\n",
    "#                              ---> return 2*power(2, 2)                      -returns 4\n",
    "#                                            |\n",
    "#                                            ---> return 2*power(2, 1)            -returns 2\n",
    "#                                                          |\n",
    "#                                                          ---> return power(2, 0)    -returns 1"
   ]
  },
  {
   "cell_type": "code",
   "execution_count": 2,
   "id": "279e6ba3",
   "metadata": {},
   "outputs": [
    {
     "name": "stdout",
     "output_type": "stream",
     "text": [
      "[6, 2, 6, 3, 4]\n"
     ]
    }
   ],
   "source": [
    "# R-4.4\n",
    "def reverse(S, start, stop):\n",
    "    if start < stop-1:\n",
    "        S[start], S[stop-1] = S[stop-1], S[start]\n",
    "        reverse(S, start+1, stop-1)\n",
    "        \n",
    "S = [4,3,6,2,6]\n",
    "reverse(S, 0, 5)\n",
    "print(S) # show mutated list\n",
    "\n",
    "# reverse(S,0,5) -> S=[6,3,6,2,4]\n",
    "# |\n",
    "# ---> reverse(S,1,4) -> S=[6,2,6,3,4]\n",
    "#      |\n",
    "#      ---> reverse(S,2,3) -> condition is met, recursion ends"
   ]
  },
  {
   "cell_type": "code",
   "execution_count": 3,
   "id": "834261b4",
   "metadata": {},
   "outputs": [
    {
     "name": "stdout",
     "output_type": "stream",
     "text": [
      "['a', 'b', 'c']\n",
      "['a', 'b', 'd']\n",
      "['a', 'c', 'b']\n",
      "['a', 'c', 'd']\n",
      "['a', 'd', 'b']\n",
      "['a', 'd', 'c']\n",
      "['b', 'a', 'c']\n",
      "['b', 'a', 'd']\n",
      "['b', 'c', 'a']\n",
      "['b', 'c', 'd']\n",
      "['b', 'd', 'a']\n",
      "['b', 'd', 'c']\n",
      "['c', 'a', 'b']\n",
      "['c', 'a', 'd']\n",
      "['c', 'b', 'a']\n",
      "['c', 'b', 'd']\n",
      "['c', 'd', 'a']\n",
      "['c', 'd', 'b']\n",
      "['d', 'a', 'b']\n",
      "['d', 'a', 'c']\n",
      "['d', 'b', 'a']\n",
      "['d', 'b', 'c']\n",
      "['d', 'c', 'a']\n",
      "['d', 'c', 'a'] <-Solution\n",
      "['d', 'c', 'b']\n"
     ]
    }
   ],
   "source": [
    "# R-4.5\n",
    "def PuzzleSolve(k, S, U):\n",
    "    for e in sorted(U).copy():\n",
    "        S.append(e)\n",
    "        U.remove(e)\n",
    "        if k == 1:\n",
    "            print(S)\n",
    "            if S == ['d', 'c', 'a']:\n",
    "                print(S, '<-Solution')\n",
    "        else:\n",
    "            PuzzleSolve(k-1, S, U)\n",
    "        U.add(S.pop())\n",
    "        \n",
    "PuzzleSolve(3, [], {'a','b','c','d'})"
   ]
  },
  {
   "cell_type": "code",
   "execution_count": 4,
   "id": "e0196631",
   "metadata": {},
   "outputs": [
    {
     "data": {
      "text/plain": [
       "2.283333333333333"
      ]
     },
     "execution_count": 4,
     "metadata": {},
     "output_type": "execute_result"
    }
   ],
   "source": [
    "# R-4.6\n",
    "def harmonic(n):\n",
    "    if n == 0:\n",
    "        return 0\n",
    "    return (1/n)+harmonic(n-1)\n",
    "harmonic(5)"
   ]
  },
  {
   "cell_type": "code",
   "execution_count": 1,
   "id": "a289910c",
   "metadata": {},
   "outputs": [
    {
     "data": {
      "text/plain": [
       "13531"
      ]
     },
     "execution_count": 1,
     "metadata": {},
     "output_type": "execute_result"
    }
   ],
   "source": [
    "# R-4.7\n",
    "def str2int(string):\n",
    "    if len(string) == 1:\n",
    "        return int(string)\n",
    "    \n",
    "    y = str2int(string[1:])\n",
    "    x = int(string[0])\n",
    "    \n",
    "    x = x * (10**(len(string) - 1)) + y;\n",
    "    return int(x);\n",
    " \n",
    "str2int('13531')"
   ]
  },
  {
   "cell_type": "code",
   "execution_count": 3,
   "id": "ac3dc275",
   "metadata": {},
   "outputs": [
    {
     "data": {
      "text/plain": [
       "131328"
      ]
     },
     "execution_count": 3,
     "metadata": {},
     "output_type": "execute_result"
    }
   ],
   "source": [
    "# R-4.8\n",
    "from math import log\n",
    "\n",
    "def sumnum(A):\n",
    "    assert log(len(A), 2).is_integer(), 'Length of sequence must be a power of two.' # O(1)\n",
    "    \n",
    "    if len(A) == 1: # O(1)\n",
    "        return A[0] # O(1)\n",
    "    else:\n",
    "        B = [] # O(1)\n",
    "        for i in range(len(A)//2): # O(logn)\n",
    "            B.append(A[2*i] + A[2*i+1]) # O(1)\n",
    "        return sumnum(B) # O(1) but contributes to O(logn)\n",
    "    \n",
    "# Time complexity is O(logn).\n",
    "sumnum(list(range(1,513)))"
   ]
  }
 ],
 "metadata": {
  "kernelspec": {
   "display_name": "Python 3",
   "language": "python",
   "name": "python3"
  },
  "language_info": {
   "codemirror_mode": {
    "name": "ipython",
    "version": 3
   },
   "file_extension": ".py",
   "mimetype": "text/x-python",
   "name": "python",
   "nbconvert_exporter": "python",
   "pygments_lexer": "ipython3",
   "version": "3.8.8"
  }
 },
 "nbformat": 4,
 "nbformat_minor": 5
}
