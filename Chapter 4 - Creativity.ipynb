{
 "cells": [
  {
   "cell_type": "code",
   "execution_count": 1,
   "id": "7ae32375",
   "metadata": {},
   "outputs": [
    {
     "data": {
      "text/plain": [
       "(1, 5)"
      ]
     },
     "execution_count": 1,
     "metadata": {},
     "output_type": "execute_result"
    }
   ],
   "source": [
    "# C-4.9\n",
    "def minmax(S, index=0):\n",
    "    if index == len(S)-1:\n",
    "        return S[index], S[index]\n",
    "    else:\n",
    "        min_, max_ = minmax(S, index+1)\n",
    "        return min(S[index], min_), max(S[index], max_)\n",
    "        \n",
    "lst = [4,5,1,3]\n",
    "minmax(lst)"
   ]
  },
  {
   "cell_type": "code",
   "execution_count": 2,
   "id": "b3360b4a",
   "metadata": {},
   "outputs": [
    {
     "data": {
      "text/plain": [
       "5"
      ]
     },
     "execution_count": 2,
     "metadata": {},
     "output_type": "execute_result"
    }
   ],
   "source": [
    "# C-4.10\n",
    "def intlog2(n, count=0):\n",
    "    if n < 2:\n",
    "        return count\n",
    "    \n",
    "    return intlog2(n//2, count+1)\n",
    "\n",
    "intlog2(33)"
   ]
  },
  {
   "cell_type": "code",
   "execution_count": 12,
   "id": "ffa1dc56",
   "metadata": {},
   "outputs": [
    {
     "name": "stdout",
     "output_type": "stream",
     "text": [
      "[17, 1, 82, 49, 3, 96, 34, 95, 82]\n"
     ]
    },
    {
     "data": {
      "text/plain": [
       "False"
      ]
     },
     "execution_count": 12,
     "metadata": {},
     "output_type": "execute_result"
    }
   ],
   "source": [
    "# C-4.11\n",
    "def unique(S):\n",
    "    if len(S) == 1:\n",
    "        return True\n",
    "    x = S[0]\n",
    "    y = S[1:]\n",
    "    if x in y:\n",
    "        return False\n",
    "    return unique(y) # n-1 recursive calls: O(n)\n",
    "\n",
    "from random import randint\n",
    "lst = [randint(1,100) for i in range(9)]\n",
    "print(lst)\n",
    "\n",
    "unique(lst)"
   ]
  },
  {
   "cell_type": "code",
   "execution_count": 13,
   "id": "b7b3a6c5",
   "metadata": {},
   "outputs": [
    {
     "data": {
      "text/plain": [
       "20"
      ]
     },
     "execution_count": 13,
     "metadata": {},
     "output_type": "execute_result"
    }
   ],
   "source": [
    "# C-4.12\n",
    "def product(m,n):\n",
    "    if n == 0:\n",
    "        return 0\n",
    "    return m + product(m, n-1)\n",
    "\n",
    "product(4,5)"
   ]
  },
  {
   "cell_type": "code",
   "execution_count": 14,
   "id": "43598f59",
   "metadata": {},
   "outputs": [],
   "source": [
    "# C-4.13\n",
    "\n",
    "# Base cases:\n",
    "#  draw_interval(0) = 0 dashes\n",
    "#  draw_interval(1) = 1 dash\n",
    "\n",
    "# Show by induction that draw_interval(c) creates 2**(c+1)-c-2 dashes.\n",
    "\n",
    "# Assume: draw_interval(k) = 2**(k+1)-k-2,\n",
    "#   and also\n",
    "#   draw_interval(k) = 2*draw_interval(k-1)+k  <--(recursive definition)\n",
    "\n",
    "# Then:\n",
    "#   draw_interval(k+1) = 2*draw_interval(k)+(k+1)  \n",
    "#                      = 2*[2**(k+1)-k-2]+(k+1) -pay attention to exponent\n",
    "#                      = 2**((k+1)+1)-k-1-2     -factor (k+1)\n",
    "#                      = 2**((k+1)+1)-(k+1)-2   \n",
    "\n",
    "#          We see draw_interval(k+1) = 2**((k+1)+1)-(k+1)-2\n",
    "# has the same form draw_interval(c) = 2**(c+1)-c-2,\n",
    "# and is therefore proven by induction."
   ]
  },
  {
   "cell_type": "code",
   "execution_count": 7,
   "id": "6dc4f7ce",
   "metadata": {},
   "outputs": [
    {
     "name": "stdout",
     "output_type": "stream",
     "text": [
      "Move disk from A to B\n",
      "Move disk from A to C\n",
      "Move disk from B to C\n",
      "Move disk from A to B\n",
      "Move disk from C to A\n",
      "Move disk from C to B\n",
      "Move disk from A to B\n",
      "Move disk from A to C\n",
      "Move disk from B to C\n",
      "Move disk from B to A\n",
      "Move disk from C to A\n",
      "Move disk from B to C\n",
      "Move disk from A to B\n",
      "Move disk from A to C\n",
      "Move disk from B to C\n"
     ]
    }
   ],
   "source": [
    "# C-4.14\n",
    "def Hanoi(n, f, h, t):\n",
    "    if n == 0:\n",
    "        return\n",
    "    Hanoi(n-1, f, t, h)\n",
    "    print(\"Move disk from {} to {}\".format(f, t))\n",
    "    Hanoi(n-1, h, f, t)\n",
    "         \n",
    "Hanoi(4, 'A', 'B', 'C')"
   ]
  },
  {
   "cell_type": "code",
   "execution_count": 11,
   "id": "4728f0fc",
   "metadata": {},
   "outputs": [
    {
     "name": "stdout",
     "output_type": "stream",
     "text": [
      "Original set: {1, 2, 3, 4}\n",
      "\n",
      "Subsets:\n",
      "{(2, 3, 4), (1, 2, 3), (1, 2, 4), (1, 3, 4)}\n",
      "{(2, 4), (1, 2), (3, 4), (1, 4), (2, 3), (1, 3)}\n",
      "{(1,), (2,), (3,), (4,)}\n",
      "{()}\n"
     ]
    }
   ],
   "source": [
    "# C-4.15\n",
    "from itertools import combinations\n",
    "\n",
    "def subset(S, n):\n",
    "    if n == len(S):\n",
    "        print('Original set:', S, end='\\n\\n')\n",
    "        print('Subsets:')\n",
    "    if n > 0:\n",
    "        print(set(combinations(S, n-1)))\n",
    "        subset(S, n-1)\n",
    "\n",
    "subset({1,2,3,4}, 4)"
   ]
  },
  {
   "cell_type": "code",
   "execution_count": 3,
   "id": "a52a17b6",
   "metadata": {},
   "outputs": [
    {
     "data": {
      "text/plain": [
       "'snap&stop'"
      ]
     },
     "execution_count": 3,
     "metadata": {},
     "output_type": "execute_result"
    }
   ],
   "source": [
    "# C-4.16\n",
    "def reverse(s, index=0):\n",
    "    if index == len(s)-1:\n",
    "        return [s[index]]\n",
    "    else:\n",
    "        lst = reverse(s, index+1)\n",
    "        lst.append(s[index])\n",
    "        if index == 0:\n",
    "            return ''.join(lst)\n",
    "        return lst\n",
    "\n",
    "reverse('pots&pans')"
   ]
  },
  {
   "cell_type": "code",
   "execution_count": 2,
   "id": "ec5a0cbe",
   "metadata": {},
   "outputs": [
    {
     "data": {
      "text/plain": [
       "True"
      ]
     },
     "execution_count": 2,
     "metadata": {},
     "output_type": "execute_result"
    }
   ],
   "source": [
    "# C-4.17\n",
    "def reverse(s, index=0):\n",
    "    if index == len(s)-1:\n",
    "        return [s[index]]\n",
    "    else:\n",
    "        lst = reverse(s, index+1)\n",
    "        lst.append(s[index])\n",
    "        if index == 0:\n",
    "            x = ''.join(lst)\n",
    "            if x == s: return True\n",
    "            return False\n",
    "        return lst\n",
    "\n",
    "reverse('hannah')"
   ]
  },
  {
   "cell_type": "code",
   "execution_count": 7,
   "id": "5a65d8fa",
   "metadata": {},
   "outputs": [
    {
     "name": "stdout",
     "output_type": "stream",
     "text": [
      "String has more constants than vowels.\n"
     ]
    }
   ],
   "source": [
    "# C-4.18 \n",
    "def vowcon(s, index=0, vows=0, cons=0):\n",
    "    if index <= len(s)-1:\n",
    "        if s[index].lower() in 'aeiou':\n",
    "            vows+=1\n",
    "        else:\n",
    "            cons+=1\n",
    "        vowcon(s, index+1, vows, cons)\n",
    "    else:      \n",
    "        if vows == cons: \n",
    "            print('String has equal amount of vowels and constants.')\n",
    "        elif vows > cons:\n",
    "            print('String has more vowels than constants.')\n",
    "        else:\n",
    "            print('String has more constants than vowels.')\n",
    "\n",
    "vowcon('Jupyter')"
   ]
  },
  {
   "cell_type": "code",
   "execution_count": 2,
   "id": "dbb63cc7",
   "metadata": {},
   "outputs": [
    {
     "name": "stdout",
     "output_type": "stream",
     "text": [
      "[15, 16, 10, 14, 15, 6]\n",
      "\n"
     ]
    },
    {
     "data": {
      "text/plain": [
       "[16, 10, 14, 6, 15, 15]"
      ]
     },
     "execution_count": 2,
     "metadata": {},
     "output_type": "execute_result"
    }
   ],
   "source": [
    "# C-4.19\n",
    "def even_first(S, i=0, evens=[], odds=[]):\n",
    "    if i < len(S):\n",
    "        if S[i] % 2 == 0:\n",
    "            evens.append(S[i])\n",
    "        else:\n",
    "            odds.append(S[i])\n",
    "        even_first(S, i+1, evens, odds)\n",
    "    S.clear()\n",
    "    S = evens + odds\n",
    "    return S\n",
    "\n",
    "from random import randint\n",
    "lst = [randint(0,20) for i in range(6)]\n",
    "print(lst, end='\\n\\n')\n",
    "even_first(lst)"
   ]
  },
  {
   "cell_type": "code",
   "execution_count": 4,
   "id": "621fdd4a",
   "metadata": {},
   "outputs": [
    {
     "name": "stdout",
     "output_type": "stream",
     "text": [
      "[18, 3, 4, 12, 19, 3, 2, 19, 5, 0]\n",
      "\n"
     ]
    },
    {
     "data": {
      "text/plain": [
       "[3, 4, 3, 2, 5, 0, 18, 12, 19, 19]"
      ]
     },
     "execution_count": 4,
     "metadata": {},
     "output_type": "execute_result"
    }
   ],
   "source": [
    "# C-4.20\n",
    "def k_sort(S, k, i=0, less_eq=[], greater=[]):\n",
    "    if i < len(S): #O(1)\n",
    "        if S[i] <= k: #O(1)\n",
    "            less_eq.append(S[i]) # O(1)\n",
    "        else:                    # |\n",
    "            greater.append(S[i]) # |\n",
    "        k_sort(S, k, i+1, less_eq, greater) #O(n)\n",
    "    S.clear() #O(n)\n",
    "    S = less_eq + greater #O(n)\n",
    "    return S #O(1)\n",
    "# This function's time complexity is in O(n).\n",
    "\n",
    "lst = [randint(0,20) for i in range(10)]\n",
    "print(lst, end='\\n\\n')\n",
    "k_sort(lst, 9)"
   ]
  },
  {
   "cell_type": "code",
   "execution_count": 14,
   "id": "a3660ab1",
   "metadata": {},
   "outputs": [
    {
     "name": "stdout",
     "output_type": "stream",
     "text": [
      "[0, 14, 15, 17, 21, 24, 33, 35, 45, 48, 55, 58, 64, 70, 73, 75, 85, 89, 90, 97, 98]\n"
     ]
    },
    {
     "data": {
      "text/plain": [
       "(55, 85)"
      ]
     },
     "execution_count": 14,
     "metadata": {},
     "output_type": "execute_result"
    }
   ],
   "source": [
    "# C-4.21\n",
    "def k_sum(S, k, i=0, j=0):\n",
    "    if i < len(S): #O(1)\n",
    "        \n",
    "        if i==j: pass                              #O(1)                             \n",
    "        elif S[i] + S[j] == k: return S[i], S[j]   # |\n",
    "            \n",
    "        if j+1 == len(S):                  #O(n^2) \n",
    "            return k_sum(S, k, i+1, j=0)   #  |\n",
    "        else:                              #  |\n",
    "            return k_sum(S, k, i, j+1)     #  |\n",
    "        \n",
    "    return False #O(1)\n",
    "\n",
    "\n",
    "# Generate qualified list\n",
    "from random import randint\n",
    "lst = []\n",
    "while len(lst) < 21:\n",
    "    x = randint(0, 100)\n",
    "    if x not in lst:\n",
    "        lst.append(x)\n",
    "    \n",
    "lst.sort()\n",
    "print(lst)\n",
    "k_sum(lst, 140) # By comparing every possible pair of values recursively, \n",
    "                # the time complexity is O(n^2)."
   ]
  },
  {
   "cell_type": "code",
   "execution_count": 16,
   "id": "9ca8b2bf",
   "metadata": {},
   "outputs": [
    {
     "name": "stdout",
     "output_type": "stream",
     "text": [
      "81\n",
      "243\n"
     ]
    }
   ],
   "source": [
    "# C-4.22\n",
    "def power(x, n):\n",
    "    res = x\n",
    "    for i in range(n//2):\n",
    "        res *= res \n",
    "    if n%2==1:\n",
    "        res*=x\n",
    "    return res\n",
    "  \n",
    "print(power(3,4))\n",
    "print(power(3,5))"
   ]
  }
 ],
 "metadata": {
  "kernelspec": {
   "display_name": "Python 3",
   "language": "python",
   "name": "python3"
  },
  "language_info": {
   "codemirror_mode": {
    "name": "ipython",
    "version": 3
   },
   "file_extension": ".py",
   "mimetype": "text/x-python",
   "name": "python",
   "nbconvert_exporter": "python",
   "pygments_lexer": "ipython3",
   "version": "3.8.8"
  }
 },
 "nbformat": 4,
 "nbformat_minor": 5
}
