{
  "nbformat": 4,
  "nbformat_minor": 0,
  "metadata": {
    "colab": {
      "name": "Chapter 5 - Creativity.ipynb",
      "provenance": [],
      "collapsed_sections": [],
      "authorship_tag": "ABX9TyMLZ2urmuYoDT6ST57+PZng",
      "include_colab_link": true
    },
    "kernelspec": {
      "name": "python3",
      "display_name": "Python 3"
    },
    "language_info": {
      "name": "python"
    }
  },
  "cells": [
    {
      "cell_type": "markdown",
      "metadata": {
        "id": "view-in-github",
        "colab_type": "text"
      },
      "source": [
        "<a href=\"https://colab.research.google.com/github/tcaja/Data-Structures-and-Algorithms-in-Python-Solutions/blob/main/Chapter_5_Creativity.ipynb\" target=\"_parent\"><img src=\"https://colab.research.google.com/assets/colab-badge.svg\" alt=\"Open In Colab\"/></a>"
      ]
    },
    {
      "cell_type": "code",
      "metadata": {
        "colab": {
          "base_uri": "https://localhost:8080/"
        },
        "id": "7Htm7GyKiRsc",
        "outputId": "b95de172-ec6d-46be-f49c-3577443cb963"
      },
      "source": [
        "# C-5.13\n",
        "\n",
        "# We can see from the pattern below that each element added in the initialization of\n",
        "# the list, data, causes an increased of 8 initial bytes of the underlying array's size.\n",
        "import sys\n",
        "\n",
        "data = []\n",
        "for k in range(2):\n",
        "    a = len(data)\n",
        "    b = sys.getsizeof(data)\n",
        "    print('Length: {0:3d}; Size in bytes: {1:4d}'.format(a, b))\n",
        "    data.append(None)\n",
        "    \n",
        "print('')    \n",
        "\n",
        "data = [None]\n",
        "for k in range(2):\n",
        "    a = len(data)\n",
        "    b = sys.getsizeof(data)\n",
        "    print('Length: {0:3d}; Size in bytes: {1:4d}'.format(a, b))\n",
        "    data.append(None)\n",
        "    \n",
        "print('')    \n",
        "\n",
        "data = [None, None]\n",
        "for k in range(2):\n",
        "    a = len(data)\n",
        "    b = sys.getsizeof(data)\n",
        "    print('Length: {0:3d}; Size in bytes: {1:4d}'.format(a, b))\n",
        "    data.append(None)"
      ],
      "execution_count": null,
      "outputs": [
        {
          "output_type": "stream",
          "name": "stdout",
          "text": [
            "Length:   0; Size in bytes:   72\n",
            "Length:   1; Size in bytes:  104\n",
            "\n",
            "Length:   1; Size in bytes:   80\n",
            "Length:   2; Size in bytes:  112\n",
            "\n",
            "Length:   2; Size in bytes:   88\n",
            "Length:   3; Size in bytes:  120\n"
          ]
        }
      ]
    },
    {
      "cell_type": "code",
      "metadata": {
        "colab": {
          "base_uri": "https://localhost:8080/"
        },
        "id": "xRAMlzHpiLQ7",
        "outputId": "68a43bdb-c4d0-4aa9-a438-02720725c400"
      },
      "source": [
        "# C-5.14\n",
        "from random import randrange\n",
        "from itertools import permutations\n",
        "\n",
        "def my_shuffle(lst):\n",
        "    perms = list(permutations(lst))\n",
        "    return perms[randrange(len(perms))]\n",
        "\n",
        "my_shuffle([1,2,3,4,5])"
      ],
      "execution_count": null,
      "outputs": [
        {
          "output_type": "execute_result",
          "data": {
            "text/plain": [
              "(1, 5, 3, 4, 2)"
            ]
          },
          "metadata": {},
          "execution_count": 5
        }
      ]
    },
    {
      "cell_type": "code",
      "metadata": {
        "id": "yX0nK9QgiOw6"
      },
      "source": [
        "# C-5.15\n",
        "\n",
        "# When capacity is reached, the array changes from N to (5/4)N in capacity size.\n",
        "# N operations will be needed when creating the new array, and (1/5)N operations\n",
        "# for the next extension. Note:\n",
        "#  N1 + N1/4 = N2  ->  (5/4)N1 = N2\n",
        "# where N2 is the new array. Then,\n",
        "# (1/4)N1 = (1/5)N2\n",
        "# and thus we need \n",
        "# N2(1/5)*(dollars) = N\n",
        "# or $5 additional dollars per append operation for linear amortization.\n",
        "# That is a total of $6 for every append operation."
      ],
      "execution_count": null,
      "outputs": []
    },
    {
      "cell_type": "code",
      "metadata": {
        "colab": {
          "base_uri": "https://localhost:8080/"
        },
        "id": "ROHnOT2yisjy",
        "outputId": "e8dd9a55-8346-4e62-e9ce-2fabf17823d4"
      },
      "source": [
        "# C-5.16\n",
        "import ctypes\n",
        "\n",
        "class DynamicArray:\n",
        "    \n",
        "    def __init__(self):\n",
        "        self._n = 0\n",
        "        self._capacity = 1\n",
        "        self._A = self._make_array(self._capacity)\n",
        "        \n",
        "    def __len__(self):\n",
        "        return self._n\n",
        "    \n",
        "    def __getitem__(self, k):\n",
        "        if not -self._n <= k < self._n:\n",
        "            raise IndexError('invalid index')\n",
        "        return self._A[k]\n",
        "    \n",
        "    def append(self, obj):\n",
        "        if self._n == self._capacity:\n",
        "            self._resize(2 * self._capacity)\n",
        "        self._A[self._n] = obj\n",
        "        self._n += 1\n",
        "        \n",
        "    def pop(self):\n",
        "        ans = self._A[self._n-1]\n",
        "        self._n -= 1\n",
        "        if self._n < self._capacity//4:\n",
        "            self._resize(self._capacity//2)\n",
        "        return ans\n",
        "        \n",
        "        \n",
        "    def _resize(self, c):\n",
        "        B = self._make_array(c)\n",
        "        for k in range(self._n):\n",
        "            B[k] = self._A[k]\n",
        "        self._A = B\n",
        "        self._capacity = c\n",
        "            \n",
        "    def _make_array(self, c):\n",
        "        return (c*ctypes.py_object)()\n",
        "\n",
        "x = DynamicArray() \n",
        "for i in [1,2,3,4,5]:\n",
        "    x.append(i)\n",
        "print(list(x))\n",
        "print(x._capacity)\n",
        "\n",
        "x.pop()\n",
        "x.pop()\n",
        "x.pop()\n",
        "x.pop()\n",
        "print(list(x))\n",
        "print(x._capacity)"
      ],
      "execution_count": null,
      "outputs": [
        {
          "output_type": "stream",
          "name": "stdout",
          "text": [
            "[1, 2, 3, 4, 5]\n",
            "8\n",
            "[1]\n",
            "4\n"
          ]
        }
      ]
    },
    {
      "cell_type": "code",
      "metadata": {
        "id": "GYKMSw0jiwdy"
      },
      "source": [
        "# C-5.17\n",
        "\n",
        "# Capacity doubles when old capacity is reached.\n",
        "# Capacity shrinks by 1/2 when number of elements in array is below 1/4 the capacity.\n",
        "# There are n append operations, and n pop operations.\n",
        "# Prove these 2n operations take O(n) time.\n",
        "\n",
        "# Exhaustively:\n",
        "# ❏❏ (append) _n = 1, _c = 2\n",
        "\n",
        "# ❏❏❏❏ (append) _n = 2, _c = 4\n",
        "\n",
        "# ❏❏❏❏ (pop) _n = 1, _c = 4\n",
        "\n",
        "# ❏❏ (pop) _n = 0, _c = 2"
      ],
      "execution_count": null,
      "outputs": []
    },
    {
      "cell_type": "code",
      "metadata": {
        "id": "4nCpv35Ki04U"
      },
      "source": [
        "# C-5.18\n",
        "\n",
        "# If you start at N=8, shrinking will not occur until the number of array elements is below\n",
        "# 2, which is the ceiling of 8/4. Likewise, if you append one more, the capacity will expand to N=16. \n",
        "# If the elements in this array go below 4, the array will shrink back to N=8.\n",
        "\n",
        "# Either way, one must either pop (3/4)N or append (5/4)N elements to grow or shrink by 1/2 or 2 respectively.\n",
        "# Adding these possibilities together gives 2N which fall in O(N)."
      ],
      "execution_count": null,
      "outputs": []
    },
    {
      "cell_type": "code",
      "metadata": {
        "id": "Uicn8aEmi4Xf"
      },
      "source": [
        "# C-5.19\n",
        "\n",
        "# In this case, a growth will behave as normal, but a shrink will result in a size of precisely N/4 capacity.\n",
        "# Therefore, the capacity grows again at the next append, but will not have to grow again until 2N, leaving \n",
        "# room for amortization."
      ],
      "execution_count": null,
      "outputs": []
    },
    {
      "cell_type": "code",
      "metadata": {
        "id": "QwasM2Y2i67-"
      },
      "source": [
        "# C-5.20\n",
        "\n",
        "# This case provides the opportunity to both growth and shrink immediately after one another, making \n",
        "# available a pop/append loop running in O(n^2) time."
      ],
      "execution_count": null,
      "outputs": []
    },
    {
      "cell_type": "code",
      "metadata": {
        "colab": {
          "base_uri": "https://localhost:8080/"
        },
        "id": "mjQoGPNji9JG",
        "outputId": "a5ede148-4bb2-441d-f81c-6a78250ccacd"
      },
      "source": [
        "# C-5.21\n",
        "from time import time\n",
        "\n",
        "# Document for composing a long string:\n",
        "document = \"You think you're like Max, therefore you have forgotten about the other cat. \\\n",
        "            You don't even know his name. Having to believe means that you must consider everything, \\\n",
        "            and before deciding that you are like Max you must consider that you may be like the other \\\n",
        "            cat; instead of running for your life and taking your chances, you may be going to your doom \\\n",
        "            happily, filled with your judgments.\" \n",
        "\n",
        "# First way to compose a long string and its efficiency:\n",
        "start = time()\n",
        "letters = ''\n",
        "for c in document:\n",
        "    if c.isalpha():\n",
        "        letters += c\n",
        "end = time()\n",
        "elapsed1 = round(end - start, 10)\n",
        "\n",
        "# Second way\n",
        "letters = ''\n",
        "start = time()\n",
        "temp = []\n",
        "for c in document:\n",
        "    if c.isalpha():\n",
        "        temp.append(c)\n",
        "letters = ''.join(temp)\n",
        "end = time()\n",
        "elapsed2 = round(end - start, 10)\n",
        "\n",
        "# Third...\n",
        "letters = ''\n",
        "start = time()\n",
        "letters = ''.join([c for c in document if c.isalpha()])\n",
        "end = time()\n",
        "elapsed3 = round(end - start, 10)\n",
        "\n",
        "# Fourth...\n",
        "letters = ''\n",
        "start = time()\n",
        "letters = ''.join(c for c in document if c.isalpha())\n",
        "end = time()\n",
        "elapsed4 = round(end - start, 10)\n",
        "\n",
        "print('First way: ', elapsed1, 'seconds')\n",
        "print('Second way:', elapsed2, 'seconds')\n",
        "print('Third way: ', elapsed3, 'seconds')\n",
        "print('Fourth way:', elapsed4, 'seconds')"
      ],
      "execution_count": null,
      "outputs": [
        {
          "output_type": "stream",
          "name": "stdout",
          "text": [
            "First way:  0.0001673698 seconds\n",
            "Second way: 0.0001485348 seconds\n",
            "Third way:  0.0001163483 seconds\n",
            "Fourth way: 0.0001013279 seconds\n"
          ]
        }
      ]
    },
    {
      "cell_type": "code",
      "metadata": {
        "colab": {
          "base_uri": "https://localhost:8080/"
        },
        "id": "PvUc1iUljGKt",
        "outputId": "2e57af00-980b-4bca-b0d5-39798299e0d0"
      },
      "source": [
        "# C-5.22\n",
        "from time import time\n",
        "\n",
        "# Time efficiency of multiple appends:\n",
        "lst = ['A', 'B', 'C']\n",
        "start = time()\n",
        "lst.append('D')\n",
        "lst.append('E')\n",
        "lst.append('F')\n",
        "lst.append('G')\n",
        "end = time()\n",
        "elapsed1 = round(end - start, 10)\n",
        "\n",
        "# Time efficiency for extend method\n",
        "lst = ['A', 'B', 'C']\n",
        "start = time()\n",
        "lst.extend(['D', 'E', 'F', 'G'])\n",
        "end = time()\n",
        "elapsed2 = round(end - start, 10)\n",
        "\n",
        "print('Time for multiple append methods:', elapsed1, 'seconds\\n')\n",
        "print('Time for extend method:          ', elapsed2, 'seconds')"
      ],
      "execution_count": null,
      "outputs": [
        {
          "output_type": "stream",
          "name": "stdout",
          "text": [
            "Time for multiple append methods: 7.48634e-05 seconds\n",
            "\n",
            "Time for extend method:           3.29018e-05 seconds\n"
          ]
        }
      ]
    },
    {
      "cell_type": "code",
      "metadata": {
        "colab": {
          "base_uri": "https://localhost:8080/"
        },
        "id": "uIphnArDpouk",
        "outputId": "9af2d505-7545-4e50-ab27-0c926a9fa9e0"
      },
      "source": [
        "# C-5.23\n",
        "from time import time\n",
        "\n",
        "start = time()\n",
        "squares = [k*k for k in range(1, 11)]\n",
        "end = time()\n",
        "elapsed1 = round(end - start, 10)\n",
        "\n",
        "start = time()\n",
        "square = []\n",
        "for k in range(1, 11):\n",
        "  square.append(k*k)\n",
        "end = time()\n",
        "elapsed2 = round(end - start, 10)\n",
        "\n",
        "print('Time using list comprehension:', elapsed1, 'seconds\\n')\n",
        "print('Time using list initializing: ', elapsed2, 'seconds')"
      ],
      "execution_count": null,
      "outputs": [
        {
          "output_type": "stream",
          "name": "stdout",
          "text": [
            "Time using list comprehension: 0.0001182556 seconds\n",
            "\n",
            "Time using list initializing:  0.0001215935 seconds\n"
          ]
        }
      ]
    },
    {
      "cell_type": "code",
      "metadata": {
        "colab": {
          "base_uri": "https://localhost:8080/",
          "height": 520
        },
        "id": "_uxGvl5jsZbZ",
        "outputId": "f956d5e0-b2d0-4f11-ac5b-f6178cfe84ca"
      },
      "source": [
        "# C-5.24\n",
        "import pandas as pd\n",
        "from time import time\n",
        "\n",
        "def remove_average(S, k):\n",
        "    Z = S.copy()\n",
        "    start = time()\n",
        "    Z.remove(k)\n",
        "    end = time()\n",
        "    avg = round((end-start)/len(S), 20)\n",
        "    return [len(S), avg, k]\n",
        "\n",
        "N = [list(range(100)), list(range(1000)), list(range(10000)), \\\n",
        "     list(range(100000)), list(range(1000000))]\n",
        "\n",
        "lst=[]\n",
        "for i in range(len(N)):\n",
        "    for j in [0, len(N[i])//2, len(N[i])-1]:\n",
        "        lst.append(remove_average(N[i], j))\n",
        "\n",
        "df = pd.DataFrame(lst, columns=['n Size', 'Time', 'Index'])\n",
        "df"
      ],
      "execution_count": null,
      "outputs": [
        {
          "output_type": "execute_result",
          "data": {
            "text/html": [
              "<div>\n",
              "<style scoped>\n",
              "    .dataframe tbody tr th:only-of-type {\n",
              "        vertical-align: middle;\n",
              "    }\n",
              "\n",
              "    .dataframe tbody tr th {\n",
              "        vertical-align: top;\n",
              "    }\n",
              "\n",
              "    .dataframe thead th {\n",
              "        text-align: right;\n",
              "    }\n",
              "</style>\n",
              "<table border=\"1\" class=\"dataframe\">\n",
              "  <thead>\n",
              "    <tr style=\"text-align: right;\">\n",
              "      <th></th>\n",
              "      <th>n Size</th>\n",
              "      <th>Time</th>\n",
              "      <th>Index</th>\n",
              "    </tr>\n",
              "  </thead>\n",
              "  <tbody>\n",
              "    <tr>\n",
              "      <th>0</th>\n",
              "      <td>100</td>\n",
              "      <td>1.907349e-08</td>\n",
              "      <td>0</td>\n",
              "    </tr>\n",
              "    <tr>\n",
              "      <th>1</th>\n",
              "      <td>100</td>\n",
              "      <td>1.430511e-08</td>\n",
              "      <td>50</td>\n",
              "    </tr>\n",
              "    <tr>\n",
              "      <th>2</th>\n",
              "      <td>100</td>\n",
              "      <td>1.907349e-08</td>\n",
              "      <td>99</td>\n",
              "    </tr>\n",
              "    <tr>\n",
              "      <th>3</th>\n",
              "      <td>1000</td>\n",
              "      <td>7.152557e-10</td>\n",
              "      <td>0</td>\n",
              "    </tr>\n",
              "    <tr>\n",
              "      <th>4</th>\n",
              "      <td>1000</td>\n",
              "      <td>7.867813e-09</td>\n",
              "      <td>500</td>\n",
              "    </tr>\n",
              "    <tr>\n",
              "      <th>5</th>\n",
              "      <td>1000</td>\n",
              "      <td>1.430511e-08</td>\n",
              "      <td>999</td>\n",
              "    </tr>\n",
              "    <tr>\n",
              "      <th>6</th>\n",
              "      <td>10000</td>\n",
              "      <td>2.145767e-10</td>\n",
              "      <td>0</td>\n",
              "    </tr>\n",
              "    <tr>\n",
              "      <th>7</th>\n",
              "      <td>10000</td>\n",
              "      <td>7.128716e-09</td>\n",
              "      <td>5000</td>\n",
              "    </tr>\n",
              "    <tr>\n",
              "      <th>8</th>\n",
              "      <td>10000</td>\n",
              "      <td>1.635551e-08</td>\n",
              "      <td>9999</td>\n",
              "    </tr>\n",
              "    <tr>\n",
              "      <th>9</th>\n",
              "      <td>100000</td>\n",
              "      <td>6.818771e-10</td>\n",
              "      <td>0</td>\n",
              "    </tr>\n",
              "    <tr>\n",
              "      <th>10</th>\n",
              "      <td>100000</td>\n",
              "      <td>8.022785e-09</td>\n",
              "      <td>50000</td>\n",
              "    </tr>\n",
              "    <tr>\n",
              "      <th>11</th>\n",
              "      <td>100000</td>\n",
              "      <td>1.499891e-08</td>\n",
              "      <td>99999</td>\n",
              "    </tr>\n",
              "    <tr>\n",
              "      <th>12</th>\n",
              "      <td>1000000</td>\n",
              "      <td>9.367466e-10</td>\n",
              "      <td>0</td>\n",
              "    </tr>\n",
              "    <tr>\n",
              "      <th>13</th>\n",
              "      <td>1000000</td>\n",
              "      <td>8.604050e-09</td>\n",
              "      <td>500000</td>\n",
              "    </tr>\n",
              "    <tr>\n",
              "      <th>14</th>\n",
              "      <td>1000000</td>\n",
              "      <td>1.554704e-08</td>\n",
              "      <td>999999</td>\n",
              "    </tr>\n",
              "  </tbody>\n",
              "</table>\n",
              "</div>"
            ],
            "text/plain": [
              "     n Size          Time   Index\n",
              "0       100  1.907349e-08       0\n",
              "1       100  1.430511e-08      50\n",
              "2       100  1.907349e-08      99\n",
              "3      1000  7.152557e-10       0\n",
              "4      1000  7.867813e-09     500\n",
              "5      1000  1.430511e-08     999\n",
              "6     10000  2.145767e-10       0\n",
              "7     10000  7.128716e-09    5000\n",
              "8     10000  1.635551e-08    9999\n",
              "9    100000  6.818771e-10       0\n",
              "10   100000  8.022785e-09   50000\n",
              "11   100000  1.499891e-08   99999\n",
              "12  1000000  9.367466e-10       0\n",
              "13  1000000  8.604050e-09  500000\n",
              "14  1000000  1.554704e-08  999999"
            ]
          },
          "metadata": {},
          "execution_count": 36
        }
      ]
    },
    {
      "cell_type": "code",
      "metadata": {
        "colab": {
          "base_uri": "https://localhost:8080/"
        },
        "id": "W2kAFIhCtH4h",
        "outputId": "aad3ef8f-f856-4a2f-88cd-c0fc714e91c2"
      },
      "source": [
        "# C-5.25\n",
        "import random \n",
        "\n",
        "def remove_all(data, value):\n",
        "  for i in range(len(data)-1, -1, -1): # iterate backwards\n",
        "    if data[i] == value:  # assign element to back of list and then pop the list; pop is O(n).\n",
        "      data[i], data[-1] = data[-1], data[i]\n",
        "      data.pop()\n",
        "  return data\n",
        "\n",
        "lst = [random.randint(1, 10) for i in range(0, 15)]\n",
        "print(lst)\n",
        "remove_all(lst, 6)\n",
        "\n",
        "# While this does remove all values from the list in O(n) time, the tradeoff is that \n",
        "# the list may be rearranged, swapping the last value with the value being removed."
      ],
      "execution_count": null,
      "outputs": [
        {
          "output_type": "stream",
          "name": "stdout",
          "text": [
            "[4, 9, 10, 9, 6, 8, 10, 9, 1, 8, 8, 4, 10, 6, 2]\n"
          ]
        },
        {
          "output_type": "execute_result",
          "data": {
            "text/plain": [
              "[4, 9, 10, 9, 2, 8, 10, 9, 1, 8, 8, 4, 10]"
            ]
          },
          "metadata": {},
          "execution_count": 64
        }
      ]
    },
    {
      "cell_type": "code",
      "metadata": {
        "colab": {
          "base_uri": "https://localhost:8080/"
        },
        "id": "7oTHKTWc3HHw",
        "outputId": "97c45d7d-09c8-476f-b146-d3afa15bedd9"
      },
      "source": [
        "# C-5.26\n",
        "import random\n",
        "\n",
        "b = [5, 1, 3, 3, 2, 5, 1, 7, 8, 4, 2, 2, 6, 7] # list that meets requirements; 14 - 5 = 9, the highest number.\n",
        "print(sorted(b))\n",
        "def find_repeats(data):\n",
        "  lst = data.copy()\n",
        "  lst.sort()\n",
        "  repeats = []\n",
        "  for i in range(len(lst)-1, -1, -1):\n",
        "    if lst[i] == lst[i-1] and lst[i] not in repeats:\n",
        "      repeats.append(lst[i])\n",
        "  return repeats\n",
        "\n",
        "find_repeats(b)"
      ],
      "execution_count": null,
      "outputs": [
        {
          "output_type": "stream",
          "name": "stdout",
          "text": [
            "[1, 1, 2, 2, 2, 3, 3, 4, 5, 5, 6, 7, 7, 8]\n"
          ]
        },
        {
          "output_type": "execute_result",
          "data": {
            "text/plain": [
              "[7, 5, 3, 2, 1]"
            ]
          },
          "metadata": {},
          "execution_count": 78
        }
      ]
    },
    {
      "cell_type": "code",
      "metadata": {
        "id": "X0d_vIb9ILcT",
        "colab": {
          "base_uri": "https://localhost:8080/"
        },
        "outputId": "d362f30a-bd92-4034-db15-fc11e70b2abd"
      },
      "source": [
        "# C-5.27\n",
        "\n",
        "# First start with least significant bit.\n",
        "# Count occurances of 1's and 0's.\n",
        "# If the number of 1's is less than the number of zeros, \n",
        "# the missing number has a 1 as it least significant bit, or else it has a zero.\n",
        "# Iterate this process to the most significant bit.\n",
        "\n",
        "lst = [3, 5, 7] # n = 3\n",
        "\n",
        "bin_lst = [bin(i) for i in lst] # show numbers in binary\n",
        "print(bin_lst)\n",
        "\n",
        "# The first number has more ones than zeros, so the first bit of of our missing number is 0.\n",
        "# The second integer in list 5, has more ones, so our next bit is zero.\n",
        "# The last is all ones, so we have a zero.\n",
        "# So in this case, our missing number is 0b000 = 0."
      ],
      "execution_count": null,
      "outputs": [
        {
          "output_type": "execute_result",
          "data": {
            "text/plain": [
              "['0b11', '0b101', '0b111']"
            ]
          },
          "metadata": {},
          "execution_count": 6
        }
      ]
    },
    {
      "cell_type": "code",
      "metadata": {
        "id": "_JxrNiseZ74S"
      },
      "source": [
        "# C-5.28\n",
        "\n",
        "# All of the integers in L must be analyzed for the algorithm described above."
      ],
      "execution_count": null,
      "outputs": []
    },
    {
      "cell_type": "code",
      "metadata": {
        "colab": {
          "base_uri": "https://localhost:8080/"
        },
        "id": "jz312-fN3YdU",
        "outputId": "8ab71b76-9b02-49a3-d344-a7c215798a11"
      },
      "source": [
        "# C-5.29\n",
        "from random import randint\n",
        "\n",
        "A = [[randint(1, 15), randint(1, 15)] for _ in range(10)]\n",
        "B = [[randint(1, 15), randint(1, 15)] for _ in range(10)]\n",
        "print(A, '\\n', B, '\\n')\n",
        "\n",
        "nat_join = []\n",
        "for pair in A: # O(n^2)\n",
        "  for pear in B:\n",
        "    if pair[1] == pear[0]:\n",
        "      nat_join.append([pair[0], pear[0], pear[1]])\n",
        "nat_join"
      ],
      "execution_count": null,
      "outputs": [
        {
          "output_type": "stream",
          "name": "stdout",
          "text": [
            "[[12, 1], [7, 14], [12, 12], [8, 9], [5, 14], [15, 8], [1, 2], [5, 14], [15, 3], [11, 15]] \n",
            " [[4, 4], [1, 13], [11, 6], [13, 3], [4, 2], [15, 4], [13, 4], [11, 4], [4, 7], [6, 14]] \n",
            "\n"
          ]
        },
        {
          "output_type": "execute_result",
          "data": {
            "text/plain": [
              "[[12, 1, 13], [11, 15, 4]]"
            ]
          },
          "metadata": {},
          "execution_count": 10
        }
      ]
    },
    {
      "cell_type": "code",
      "metadata": {
        "colab": {
          "base_uri": "https://localhost:8080/",
          "height": 55
        },
        "id": "N_hzdeFi5roL",
        "outputId": "75102363-cfff-460c-b159-83ebc4368a45"
      },
      "source": [
        "# C-5.30\n",
        "\n",
        "# Create message and datapackets.\n",
        "from random import randint\n",
        "\n",
        "M = 'Hey Alice! How have you been?'\n",
        "M = M.split()\n",
        "M = [list(z) for z in zip([0, 1, 2, 3, 4, 5], M)]\n",
        "for i in range(5):\n",
        "  x = randint(0, 5)\n",
        "  M[x], M[i] = M[i], M[x]\n",
        "print(M)\n",
        "\n",
        "# Alice can simply use the sorted function and join the second elements:\n",
        "M = sorted(M)\n",
        "' '.join(M[i][1] for i in range(len(M)))"
      ],
      "execution_count": null,
      "outputs": [
        {
          "output_type": "stream",
          "name": "stdout",
          "text": [
            "[[0, 'Hey'], [4, 'you'], [2, 'How'], [1, 'Alice!'], [3, 'have'], [5, 'been?']]\n"
          ]
        },
        {
          "output_type": "execute_result",
          "data": {
            "application/vnd.google.colaboratory.intrinsic+json": {
              "type": "string"
            },
            "text/plain": [
              "'Hey Alice! How have you been?'"
            ]
          },
          "metadata": {},
          "execution_count": 32
        }
      ]
    },
    {
      "cell_type": "code",
      "metadata": {
        "colab": {
          "base_uri": "https://localhost:8080/"
        },
        "id": "dzuRZk7IAOPr",
        "outputId": "405c50c3-b844-4d95-df80-775c6ce15f32"
      },
      "source": [
        "# C-5.31\n",
        "\n",
        "def matrix_sum(matrix, n=0, sum_=0):\n",
        "  if n == len(matrix):\n",
        "    return 0\n",
        "  else:\n",
        "    sum_ = sum(matrix[n])\n",
        "    return sum_ + matrix_sum(matrix, n+1)\n",
        "\n",
        "a = [[1,2,3],\n",
        "     [4,5,6],\n",
        "     [7,8,9]\n",
        "     ]\n",
        "\n",
        "matrix_sum(a)"
      ],
      "execution_count": null,
      "outputs": [
        {
          "output_type": "execute_result",
          "data": {
            "text/plain": [
              "45"
            ]
          },
          "metadata": {},
          "execution_count": 39
        }
      ]
    },
    {
      "cell_type": "code",
      "metadata": {
        "id": "YVCtYopkAliM",
        "colab": {
          "base_uri": "https://localhost:8080/"
        },
        "outputId": "c1cc78f3-3291-4534-e25d-aa646f2d4593"
      },
      "source": [
        ""
      ],
      "execution_count": null,
      "outputs": [
        {
          "output_type": "execute_result",
          "data": {
            "text/plain": [
              "3"
            ]
          },
          "metadata": {},
          "execution_count": 30
        }
      ]
    },
    {
      "cell_type": "code",
      "metadata": {
        "id": "Ux8pzl0wlRi7"
      },
      "source": [
        ""
      ],
      "execution_count": null,
      "outputs": []
    }
  ]
}