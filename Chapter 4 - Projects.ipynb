{
 "cells": [
  {
   "cell_type": "code",
   "execution_count": 2,
   "id": "afd18ae0",
   "metadata": {},
   "outputs": [
    {
     "name": "stdout",
     "output_type": "stream",
     "text": [
      "C:\\Users\\Tristam\\Texts\\1970\\A Seperate Reality.txt\n",
      "C:\\Users\\Tristam\\Texts\\A Seperate Reality.txt\n"
     ]
    }
   ],
   "source": [
    "# P-4.23\n",
    "import os\n",
    "def find(path, filename):\n",
    "    if filename in path:\n",
    "        print(path)\n",
    "    if os.path.isdir(path):\n",
    "        for child in os.listdir(path):\n",
    "            cpath = os.path.join(path, child)\n",
    "            find(cpath, filename)\n",
    "    \n",
    "find('C:\\\\Users\\\\Tristam\\\\Texts\\\\', 'A Seperate Reality.txt')"
   ]
  },
  {
   "cell_type": "code",
   "execution_count": 2,
   "id": "029bd276-7682-4951-ad6f-ecf02452e3e9",
   "metadata": {},
   "outputs": [
    {
     "name": "stdout",
     "output_type": "stream",
     "text": [
      "pit pan bib\n",
      "23+98=121\n"
     ]
    },
    {
     "ename": "SystemExit",
     "evalue": "Puzzle solved!",
     "output_type": "error",
     "traceback": [
      "An exception has occurred, use %tb to see the full traceback.\n",
      "\u001b[1;31mSystemExit\u001b[0m\u001b[1;31m:\u001b[0m Puzzle solved!\n"
     ]
    }
   ],
   "source": [
    "# P-4.24\n",
    "import sys\n",
    "\n",
    "def PuzzleSolve(k, S, U, words):\n",
    "    for e in sorted(U).copy():\n",
    "        S.append(e)\n",
    "        U.remove(e)\n",
    "        if k == 1:\n",
    "            x = check(S, words)  \n",
    "            if x == True:\n",
    "                sys.exit('Puzzle solved!')\n",
    "        else:\n",
    "            PuzzleSolve(k-1, S, U, words)\n",
    "        U.append(S.pop())\n",
    "        \n",
    "        \n",
    "def check(S, words):\n",
    "    letters = list(words.replace(' ', ''))\n",
    "    l_lst = []\n",
    "    for l in letters:\n",
    "        if l not in l_lst:\n",
    "            l_lst.append(l)\n",
    "\n",
    "    dic = {}\n",
    "    for i in range(len(l_lst)):\n",
    "        dic[l_lst[i]] = S[i]\n",
    "\n",
    "    lst=[]\n",
    "    for e in words:\n",
    "        if e != ' ':\n",
    "            lst.append(dic[e])\n",
    "        else:\n",
    "            lst.append(' ')\n",
    "        \n",
    "    string = ''.join(lst)\n",
    "    lst2 = list(string.split(' '))\n",
    "    for i in range(len(lst2)):\n",
    "        lst2[i] = int(lst2[i].lstrip('0'))\n",
    "    \n",
    "    if lst2[0] + lst2[1] == lst2[2]:\n",
    "        print(words)\n",
    "        print(str(lst2[0])+'+'+str(lst2[1])+'='+str(lst2[2]))\n",
    "        return True\n",
    "    return False\n",
    "        \n",
    "PuzzleSolve(8, [], ['0','1','2','3','4','5','6','7','8','9'], words='pit pan bib')"
   ]
  },
  {
   "cell_type": "code",
   "execution_count": 3,
   "id": "87a2a862-1088-4124-9de7-7ab9a44a33dc",
   "metadata": {},
   "outputs": [
    {
     "name": "stdout",
     "output_type": "stream",
     "text": [
      "dog cat pig\n",
      "123+460=583\n"
     ]
    },
    {
     "ename": "SystemExit",
     "evalue": "Puzzle solved!",
     "output_type": "error",
     "traceback": [
      "An exception has occurred, use %tb to see the full traceback.\n",
      "\u001b[1;31mSystemExit\u001b[0m\u001b[1;31m:\u001b[0m Puzzle solved!\n"
     ]
    }
   ],
   "source": [
    "PuzzleSolve(8, [], ['0','1','2','3','4','5','6','7','8','9'], words='dog cat pig')"
   ]
  },
  {
   "cell_type": "code",
   "execution_count": 4,
   "id": "9cb16b8d-5065-40c3-a00f-12d01b500e8e",
   "metadata": {},
   "outputs": [
    {
     "name": "stdout",
     "output_type": "stream",
     "text": [
      "boy girl baby\n",
      "345+2790=3135\n"
     ]
    },
    {
     "ename": "SystemExit",
     "evalue": "Puzzle solved!",
     "output_type": "error",
     "traceback": [
      "An exception has occurred, use %tb to see the full traceback.\n",
      "\u001b[1;31mSystemExit\u001b[0m\u001b[1;31m:\u001b[0m Puzzle solved!\n"
     ]
    }
   ],
   "source": [
    "PuzzleSolve(8, [], ['0','1','2','3','4','5','6','7','8','9'], words='boy girl baby')"
   ]
  },
  {
   "cell_type": "code",
   "execution_count": 6,
   "id": "8fe74481-25b8-4330-b8ab-8a486d5c224e",
   "metadata": {},
   "outputs": [
    {
     "name": "stdout",
     "output_type": "stream",
     "text": [
      "-\n",
      "--\n",
      "-\n",
      "---\n",
      "-\n",
      "--\n",
      "-\n"
     ]
    }
   ],
   "source": [
    "# P-4.25\n",
    "def ruler(c):\n",
    "    ending = 2**c-2\n",
    "    count = 0\n",
    "    while count <= ending:\n",
    "        dash = 1\n",
    "        temp = count\n",
    "        while temp & 1:\n",
    "            dash+=1\n",
    "            temp = temp>>1\n",
    "        dash = min(dash, c)\n",
    "        print('-'*dash)\n",
    "        count+=1\n",
    "ruler(3)"
   ]
  },
  {
   "cell_type": "code",
   "execution_count": 7,
   "id": "371bfd51-1382-439b-bd21-aa7216eb303f",
   "metadata": {},
   "outputs": [
    {
     "name": "stdout",
     "output_type": "stream",
     "text": [
      "Move disk from A to B\n",
      "Move disk from A to C\n",
      "Move disk from B to C\n",
      "Move disk from A to B\n",
      "Move disk from C to A\n",
      "Move disk from C to B\n",
      "Move disk from A to B\n",
      "Move disk from A to C\n",
      "Move disk from B to C\n",
      "Move disk from B to A\n",
      "Move disk from C to A\n",
      "Move disk from B to C\n",
      "Move disk from A to B\n",
      "Move disk from A to C\n",
      "Move disk from B to C\n"
     ]
    }
   ],
   "source": [
    "# P-4.26\n",
    "# also C-4.14\n",
    "def Hanoi(n, f, h, t):\n",
    "    if n == 0:\n",
    "        return\n",
    "    Hanoi(n-1, f, t, h)\n",
    "    print(\"Move disk from {} to {}\".format(f, t))\n",
    "    Hanoi(n-1, h, f, t)\n",
    "         \n",
    "Hanoi(4, 'A', 'B', 'C')"
   ]
  },
  {
   "cell_type": "code",
   "execution_count": 8,
   "id": "c9da2df5-eedc-4726-8c9a-d5275a75afec",
   "metadata": {},
   "outputs": [
    {
     "name": "stdout",
     "output_type": "stream",
     "text": [
      "('C:\\\\Users\\\\Tristam\\\\Texts\\\\1970', [], ['A Seperate Reality.txt'])\n",
      "('C:\\\\Users\\\\Tristam\\\\Texts', ['1970'], ['A Seperate Reality.txt', 'Alice in Wonderland.txt', 'Moby Dick.txt'])\n"
     ]
    }
   ],
   "source": [
    "# P-4.27\n",
    "import os\n",
    "\n",
    "def walk(path):\n",
    "    dirs=os.listdir(path)\n",
    "    derks=[]\n",
    "    durms=[]\n",
    "    for derp in dirs:\n",
    "        if os.path.isdir(os.path.join(path, derp)):\n",
    "            derks.append(derp)\n",
    "            walk(os.path.join(path, derp))\n",
    "        else:\n",
    "            durms.append(derp)\n",
    "    \n",
    "    print((path, derks, durms))\n",
    "        \n",
    "walk('C:\\\\Users\\\\Tristam\\\\Texts')"
   ]
  },
  {
   "cell_type": "code",
   "execution_count": null,
   "id": "a9e8a1ef-59d4-42b7-8f8f-8b1ab4feabda",
   "metadata": {},
   "outputs": [],
   "source": []
  }
 ],
 "metadata": {
  "kernelspec": {
   "display_name": "Python 3",
   "language": "python",
   "name": "python3"
  },
  "language_info": {
   "codemirror_mode": {
    "name": "ipython",
    "version": 3
   },
   "file_extension": ".py",
   "mimetype": "text/x-python",
   "name": "python",
   "nbconvert_exporter": "python",
   "pygments_lexer": "ipython3",
   "version": "3.8.8"
  }
 },
 "nbformat": 4,
 "nbformat_minor": 5
}
