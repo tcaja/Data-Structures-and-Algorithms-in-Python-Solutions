{
 "cells": [
  {
   "cell_type": "markdown",
   "id": "6b1df558",
   "metadata": {},
   "source": [
    "Chapter 1 - Reinforcement "
   ]
  },
  {
   "cell_type": "code",
   "execution_count": 1,
   "id": "cc02ca1e",
   "metadata": {},
   "outputs": [
    {
     "name": "stdout",
     "output_type": "stream",
     "text": [
      "False\n",
      "True\n"
     ]
    }
   ],
   "source": [
    "# R-1.1\n",
    "def is_multiple(n, m):\n",
    "    if n % m == 0:\n",
    "        return True\n",
    "    return False\n",
    "\n",
    "print(is_multiple(2,4)) # False: 2 is not a multiple of 4\n",
    "print(is_multiple(4,2)) # True: 4 is a multiple of 2"
   ]
  },
  {
   "cell_type": "code",
   "execution_count": 6,
   "id": "6b9e2d4a",
   "metadata": {},
   "outputs": [
    {
     "name": "stdout",
     "output_type": "stream",
     "text": [
      "False\n",
      "True\n"
     ]
    }
   ],
   "source": [
    "# R-1.2\n",
    "def is_even(k):\n",
    "    if type(k) == int:\n",
    "        return k & 1 == 0  # AND's the two numbers in binary\n",
    "\n",
    "print(is_even(7))\n",
    "print(is_even(4))"
   ]
  },
  {
   "cell_type": "code",
   "execution_count": 3,
   "id": "1333d3b8",
   "metadata": {},
   "outputs": [
    {
     "name": "stdout",
     "output_type": "stream",
     "text": [
      "(-12, 700)\n",
      "(-3, 100)\n"
     ]
    }
   ],
   "source": [
    "# R-1.3\n",
    "def minmax(data):\n",
    "    if len(data): # if sequence has length\n",
    "        min = max = data[0]\n",
    "        for val in data:\n",
    "            if val > max: max = val\n",
    "            if val < min: min = val\n",
    "    return min, max    # returns a tuple by default\n",
    "\n",
    "print(minmax([-12, 14, 700]))\n",
    "print(minmax((99, 100, 0, -3)))"
   ]
  },
  {
   "cell_type": "code",
   "execution_count": 8,
   "id": "cf38b9db",
   "metadata": {},
   "outputs": [
    {
     "name": "stdout",
     "output_type": "stream",
     "text": [
      "30\n",
      "5\n"
     ]
    }
   ],
   "source": [
    "# R-1.4\n",
    "def square_and_sum_smaller(n):\n",
    "    if n <= 0:\n",
    "        print('Enter a positive integer.')\n",
    "        return\n",
    "    sq_sum = sum (m**2 for m in range(1, n))\n",
    "    return sq_sum\n",
    "\n",
    "print(square_and_sum_smaller(5))\n",
    "print(square_and_sum_smaller(3)) "
   ]
  },
  {
   "cell_type": "code",
   "execution_count": 14,
   "id": "67034880",
   "metadata": {},
   "outputs": [
    {
     "name": "stdout",
     "output_type": "stream",
     "text": [
      "2109\n",
      "55\n"
     ]
    }
   ],
   "source": [
    "# R-1.5\n",
    "def square_and_sum_smaller2(n):\n",
    "    return sum(m**2 for m in range(1, n))\n",
    "\n",
    "print(square_and_sum_smaller2(19))\n",
    "print(square_and_sum_smaller2(6)) "
   ]
  },
  {
   "cell_type": "code",
   "execution_count": 13,
   "id": "eaac7489",
   "metadata": {},
   "outputs": [
    {
     "name": "stdout",
     "output_type": "stream",
     "text": [
      "84\n",
      "10\n"
     ]
    }
   ],
   "source": [
    "# R-1.6\n",
    "def square_and_sum_smaller_odd(n):\n",
    "    if n <= 0:\n",
    "        print('Enter a positive integer.')\n",
    "        return\n",
    "    sq_sum = sum ( m**2 for m in range(1, n) if m % 2 == 1 )\n",
    "    return sq_sum\n",
    "\n",
    "print(square_and_sum_smaller_odd(9))\n",
    "print(square_and_sum_smaller_odd(4)) "
   ]
  },
  {
   "cell_type": "code",
   "execution_count": 17,
   "id": "9c295dfa",
   "metadata": {},
   "outputs": [
    {
     "name": "stdout",
     "output_type": "stream",
     "text": [
      "165\n",
      "35\n"
     ]
    }
   ],
   "source": [
    "# R-1.7\n",
    "def square_and_sum_smaller_odd2(n):\n",
    "    return sum( m**2 for m in range(1, n) if m % 2 == 1 )\n",
    "    \n",
    "\n",
    "print(square_and_sum_smaller_odd2(10))\n",
    "print(square_and_sum_smaller_odd2(7)) "
   ]
  },
  {
   "cell_type": "code",
   "execution_count": 4,
   "id": "0b7adbec",
   "metadata": {
    "scrolled": false
   },
   "outputs": [],
   "source": [
    "# R-1.8\n",
    "\n",
    "# Let s = 'hello'\n",
    "# then n = len(s) = 5\n",
    "# and the domain of index k is [-5, 0).\n",
    "# Adding len(s) aka 5 to both sides of the inequality\n",
    "# gives positive index j the same values as k\n",
    "# with j now in domain [0, 5)."
   ]
  },
  {
   "cell_type": "code",
   "execution_count": 20,
   "id": "58fca0fe",
   "metadata": {},
   "outputs": [
    {
     "name": "stdout",
     "output_type": "stream",
     "text": [
      "[50, 60, 70, 80]\n"
     ]
    }
   ],
   "source": [
    "# R-1.9\n",
    "print( list(range(50, 81, 10)) )"
   ]
  },
  {
   "cell_type": "code",
   "execution_count": 22,
   "id": "3b523013",
   "metadata": {},
   "outputs": [
    {
     "name": "stdout",
     "output_type": "stream",
     "text": [
      "[8, 6, 4, 2, 0, -2, -4, -6, -8]\n"
     ]
    }
   ],
   "source": [
    "# R-1.10\n",
    "print( list(range(8, -9, -2)) )"
   ]
  },
  {
   "cell_type": "code",
   "execution_count": 25,
   "id": "2531b4d5",
   "metadata": {},
   "outputs": [
    {
     "data": {
      "text/plain": [
       "[1, 2, 4, 8, 16, 32, 64, 128, 256]"
      ]
     },
     "execution_count": 25,
     "metadata": {},
     "output_type": "execute_result"
    }
   ],
   "source": [
    "# R-1.11\n",
    "[2**x for x in range(0, 9)]"
   ]
  },
  {
   "cell_type": "code",
   "execution_count": 26,
   "id": "9dee1678",
   "metadata": {},
   "outputs": [
    {
     "name": "stdout",
     "output_type": "stream",
     "text": [
      "43\n",
      "9\n"
     ]
    }
   ],
   "source": [
    "# R-1.12\n",
    "import random\n",
    "\n",
    "def my_choice(seq):\n",
    "    k = random.randrange(0, len(seq))\n",
    "    return seq[k]\n",
    "\n",
    "my_list = [ 23, 14.1, 9, 88, 43 ]\n",
    "print(my_choice(my_list))\n",
    "print(my_choice(my_list))"
   ]
  }
 ],
 "metadata": {
  "kernelspec": {
   "display_name": "Python 3",
   "language": "python",
   "name": "python3"
  },
  "language_info": {
   "codemirror_mode": {
    "name": "ipython",
    "version": 3
   },
   "file_extension": ".py",
   "mimetype": "text/x-python",
   "name": "python",
   "nbconvert_exporter": "python",
   "pygments_lexer": "ipython3",
   "version": "3.8.8"
  }
 },
 "nbformat": 4,
 "nbformat_minor": 5
}
