{
  "nbformat": 4,
  "nbformat_minor": 0,
  "metadata": {
    "colab": {
      "name": "Chapter 5 - Projects.ipynb",
      "provenance": [],
      "collapsed_sections": [],
      "authorship_tag": "ABX9TyN8hhP7QZx0UYrsBzWVcRzP",
      "include_colab_link": true
    },
    "kernelspec": {
      "name": "python3",
      "display_name": "Python 3"
    },
    "language_info": {
      "name": "python"
    }
  },
  "cells": [
    {
      "cell_type": "markdown",
      "metadata": {
        "id": "view-in-github",
        "colab_type": "text"
      },
      "source": [
        "<a href=\"https://colab.research.google.com/github/tcaja/Data-Structures-and-Algorithms-in-Python-Solutions/blob/main/Chapter_5_Projects.ipynb\" target=\"_parent\"><img src=\"https://colab.research.google.com/assets/colab-badge.svg\" alt=\"Open In Colab\"/></a>"
      ]
    },
    {
      "cell_type": "code",
      "metadata": {
        "colab": {
          "base_uri": "https://localhost:8080/"
        },
        "id": "ix8jYwLv4kSz",
        "outputId": "738f95e0-ec55-4c3f-d335-7d5691ca6d10"
      },
      "source": [
        "# P-5.32\n",
        "from random import randint\n",
        "import itertools\n",
        "\n",
        "array_1 = [[[randint(0, 9) for i in range(3)] for j in range(3)] for i in range(3)]\n",
        "array_2 = [[[randint(0, 9) for i in range(3)] for j in range(3)] for i in range(3)]\n",
        "print(array_1)\n",
        "print(array_2)\n",
        "\n",
        "def add_3d_arrays(A, B):\n",
        "  C = []\n",
        "  for i, j, k in itertools.product(range(3), range(3), range(3)):\n",
        "    C.append(A[i][j][k] + B[i][j][k])\n",
        "  D=[]\n",
        "  i = 0\n",
        "  j = 3\n",
        "  while i < len(A)**3:\n",
        "    D.append(C[i:j])\n",
        "    i+=3\n",
        "    j+=3\n",
        "  E=[]\n",
        "  i = 0\n",
        "  j = 3\n",
        "  while i < len(A)**2:\n",
        "    E.append(D[i:j])\n",
        "    i+=3\n",
        "    j+=3\n",
        "  return print('result:', E)\n",
        "\n",
        "add_3d_arrays(array_1, array_2)"
      ],
      "execution_count": null,
      "outputs": [
        {
          "output_type": "stream",
          "name": "stdout",
          "text": [
            "[[[0, 6, 1], [7, 8, 7], [2, 2, 9]], [[0, 6, 7], [1, 8, 3], [9, 1, 0]], [[6, 2, 9], [5, 1, 7], [1, 2, 5]]]\n",
            "[[[6, 8, 1], [2, 9, 7], [7, 1, 4]], [[1, 1, 1], [3, 6, 8], [3, 8, 7]], [[5, 6, 4], [5, 3, 2], [9, 8, 4]]]\n",
            "result: [[[6, 14, 2], [9, 17, 14], [9, 3, 13]], [[1, 7, 8], [4, 14, 11], [12, 9, 7]], [[11, 8, 13], [10, 4, 9], [10, 10, 9]]]\n"
          ]
        }
      ]
    },
    {
      "cell_type": "code",
      "metadata": {
        "id": "57Y1hIvu9EFH",
        "colab": {
          "base_uri": "https://localhost:8080/"
        },
        "outputId": "6e52f913-a489-487d-aa62-6deebbe52b86"
      },
      "source": [
        "# P-5.33\n",
        "\n",
        "class TwoDMatrix:\n",
        "  # A class that can add and multiply 2 dimensional matrices.\n",
        "\n",
        "  def __init__(self, matrix):\n",
        "    if isinstance(matrix, list) and isinstance(matrix[0], list): # Ensure a list of lists is given.\n",
        "      self._matrix = matrix\n",
        "    else:\n",
        "      raise ValueError('Must enter a list of lists.')\n",
        "\n",
        "  def __len__(self):\n",
        "    return len(self._matrix)\n",
        "\n",
        "  def __getitem__(self, k):\n",
        "    return self._matrix[k]\n",
        "\n",
        "  def __add__(self, other): \n",
        "    rowsA = len(self._matrix)\n",
        "    colsA = len(self._matrix[0])\n",
        "    rowsB = len(other)\n",
        "    colsB = len(other[0])\n",
        "    if rowsA != rowsB or colsA != colsB:\n",
        "        raise ArithmeticError('Matrices are NOT the same size.')\n",
        "    D=[]\n",
        "    for i in range(rowsA):\n",
        "      C = []\n",
        "      for j in range(colsB):\n",
        "        C.append(self._matrix[i][j] + other[i][j])\n",
        "      D.append(C)\n",
        "    return D\n",
        "\n",
        "  def __mul__(self, other):\n",
        "    rowsA = len(self._matrix)\n",
        "    colsA = len(self._matrix[0])\n",
        "    rowsB = len(other)\n",
        "    colsB = len(other[0])\n",
        "    if colsA != rowsB:\n",
        "      raise ArithmeticError('Dimensions must agree for matrix multiplication.')\n",
        "\n",
        "    D = []\n",
        "    C = []\n",
        "    for i in range(len(self._matrix)):\n",
        "      for j in range(len(other[0])):\n",
        "        total=0\n",
        "        for k in range(len(self._matrix[0])):\n",
        "          total += self._matrix[i][k]*other[k][j]\n",
        "        C.append(total)\n",
        "      D.append(C)\n",
        "      C = []\n",
        "    return D\n",
        "\n",
        "x = TwoDMatrix([[4,6], [9,10]])\n",
        "y = TwoDMatrix([[5,1], [2,1]])\n",
        "print(x+y)\n",
        "print(x*y) "
      ],
      "execution_count": null,
      "outputs": [
        {
          "output_type": "stream",
          "name": "stdout",
          "text": [
            "[[9, 7], [11, 11]]\n",
            "[[32, 10], [65, 19]]\n"
          ]
        }
      ]
    },
    {
      "cell_type": "code",
      "metadata": {
        "colab": {
          "base_uri": "https://localhost:8080/"
        },
        "id": "pJDAm4OrTZMq",
        "outputId": "2a1c4c20-0ed5-4efc-e010-2d21d8f20e06"
      },
      "source": [
        "# P-5.34\n",
        "class CaesarCipher:\n",
        "  \"\"\"Class for doing encryption and decryption using a Caesar cipher.\"\"\"\n",
        "\n",
        "  def __init__(self, shift):\n",
        "    \"\"\"Construct Caesar cipher using given integer shift for rotation.\"\"\"\n",
        "    encoderUP = [None] * 26                           \n",
        "    decoderUP = [None] * 26       \n",
        "    encoderLO = [None] * 26                           \n",
        "    decoderLO = [None] * 26                     \n",
        "    for k in range(26):\n",
        "      encoderUP[k] = chr((k + shift) % 26 + ord('A'))\n",
        "      decoderUP[k] = chr((k - shift) % 26 + ord('A'))\n",
        "\n",
        "      encoderLO[k] = chr((k + shift) % 26 + ord('a'))\n",
        "      decoderLO[k] = chr((k - shift) % 26 + ord('a'))\n",
        "    self._forwardUP = ''.join(encoderUP)                # will store as string\n",
        "    self._backwardUP = ''.join(decoderUP)   \n",
        "    self._forwardLO = ''.join(encoderLO)                # will store as string\n",
        "    self._backwardLO = ''.join(decoderLO)              # since fixed\n",
        "\n",
        "  def encrypt(self, message):\n",
        "    \"\"\"Return string representing encripted message.\"\"\"\n",
        "    return  self._transform(message, self._forwardUP, self._forwardLO)\n",
        "\n",
        "  def decrypt(self, secret):\n",
        "    \"\"\"Return decrypted message given encrypted secret.\"\"\"\n",
        "    return  self._transform(secret, self._backwardUP, self._backwardLO)\n",
        "\n",
        "  def _transform(self, original, codeUP, codeLO):\n",
        "    \"\"\"Utility to perform transformation based on given code string.\"\"\"\n",
        "    msg = list(original)\n",
        "    for k in range(len(msg)):\n",
        "      if msg[k].isupper():\n",
        "        j = ord(msg[k]) - ord('A')  \n",
        "        msg[k] = codeUP[j]                            # index from 0 to 25\n",
        "      elif msg[k].islower():                    \n",
        "        j = ord(msg[k]) - ord('a')  \n",
        "        msg[k] = codeLO[j]                         # replace this character\n",
        "    return ''.join(msg)\n",
        "\n",
        "cipher  = CaesarCipher(3)\n",
        "message = cipher.decrypt('Hi there Tommy Cruise')\n",
        "print(message)\n",
        "secret = cipher.encrypt(message)\n",
        "print(secret)"
      ],
      "execution_count": 1,
      "outputs": [
        {
          "output_type": "stream",
          "name": "stdout",
          "text": [
            "Ef qebob Qljjv Zorfpb\n",
            "Hi there Tommy Cruise\n"
          ]
        }
      ]
    },
    {
      "cell_type": "code",
      "metadata": {
        "colab": {
          "base_uri": "https://localhost:8080/"
        },
        "id": "0Okx7eRqVCIw",
        "outputId": "6532bac5-5274-43c3-b227-6932f9fc16cf"
      },
      "source": [
        "# P-5.35 \n",
        "class SubstitutionCipher:\n",
        "  \"\"\"Class for doing encryption and decryption using a Caesar cipher.\"\"\"\n",
        "\n",
        "  def __init__(self, code='QAZWSXEDCRFVTGBYHNUJMIKOLP'):\n",
        "    \"\"\"Construct Caesar cipher using given integer shift for rotation.\"\"\"\n",
        "    self._forward = code\n",
        "    alpha = 'ABCDEFGHIJKLMNOPQRSTUVWXYZ'\n",
        "    self._decoder = dict(zip(list(code), list(alpha)))\n",
        "    self._backward = [None]*26                          \n",
        "    for i in range(26):\n",
        "      self._backward[i] = self._decoder[code[i]]\n",
        "    self._backward = ''.join(self._backward)\n",
        "\n",
        "  def encrypt(self, message):\n",
        "    \"\"\"Return string representing encripted message.\"\"\"\n",
        "    msg = list(message)\n",
        "    for k in range(len(msg)):\n",
        "      if msg[k].isupper():\n",
        "        j = ord(msg[k]) - ord('A')                  \n",
        "        msg[k] = self._forward[j]                            \n",
        "    return ''.join(msg)\n",
        "\n",
        "  def decrypt(self, secret):\n",
        "    \"\"\"Return decrypted message given encrypted secret.\"\"\"\n",
        "    msg = list(message)\n",
        "    for k in range(len(msg)):\n",
        "      if msg[k].isupper():\n",
        "        j = ord(msg[k]) - ord('A')                  \n",
        "        msg[k] = self._backward[j]                            \n",
        "    return ''.join(msg)\n",
        "\n",
        "if __name__ == '__main__':\n",
        "  cipher = SubstitutionCipher()\n",
        "  message = \"THE EAGLE IS IN PLAY; MEET AT JOE'S.\"\n",
        "  coded = cipher.encrypt(message)\n",
        "  print('Secret: ', coded)\n",
        "  answer = cipher.decrypt(coded)\n",
        "  print('Message:', answer)"
      ],
      "execution_count": 8,
      "outputs": [
        {
          "output_type": "stream",
          "name": "stdout",
          "text": [
            "Secret:  JDS SQEVS CU CG YVQL; TSSJ QJ RBS'U.\n",
            "Message: THE EAGLE IS IN PLAY; MEET AT JOE'S.\n"
          ]
        }
      ]
    },
    {
      "cell_type": "code",
      "metadata": {
        "colab": {
          "base_uri": "https://localhost:8080/"
        },
        "id": "85awfyM21W8c",
        "outputId": "9db1dcd2-59d3-4ae4-f86b-c7c0189aeaed"
      },
      "source": [
        "# P-5.36\n",
        "class CaesarCipher(SubstitutionCipher):\n",
        "  \"\"\"Class for doing encryption and decryption using a Caesar cipher.\"\"\"\n",
        "\n",
        "  def __init__(self, shift):\n",
        "    forward = ''.join(chr((i+shift)%26 + ord('A')) for i in range(26))\n",
        "    super().__init__(forward)   # since fixed\n",
        "\n",
        "\n",
        "if __name__ == '__main__':\n",
        "  cipher = CaesarCipher(4)\n",
        "  message = \"THE EAGLE IS IN PLAY; MEET AT JOE'S.\"\n",
        "  coded = cipher.encrypt(message)\n",
        "  print('Secret: ', coded)\n",
        "  answer = cipher.decrypt(coded)\n",
        "  print('Message:', answer)"
      ],
      "execution_count": 9,
      "outputs": [
        {
          "output_type": "stream",
          "name": "stdout",
          "text": [
            "Secret:  XLI IEKPI MW MR TPEC; QIIX EX NSI'W.\n",
            "Message: THE EAGLE IS IN PLAY; MEET AT JOE'S.\n"
          ]
        }
      ]
    },
    {
      "cell_type": "code",
      "metadata": {
        "colab": {
          "base_uri": "https://localhost:8080/"
        },
        "id": "-6peJoas8jQ3",
        "outputId": "1711ad9d-5969-419f-b4a7-f10bdd0bca02"
      },
      "source": [
        "# P-5.37\n",
        "from random import shuffle\n",
        "\n",
        "class RandomCipher(SubstitutionCipher):\n",
        "  \"\"\"Class for doing encryption and decryption using a Caesar cipher.\"\"\"\n",
        "\n",
        "  def __init__(self):\n",
        "    alp = list('ABCDEFGHIJKLMNOPQRSTUVWXYZ')\n",
        "    shuffle(alp)\n",
        "    forward = ''.join(alp)\n",
        "    super().__init__(forward)   # since fixed\n",
        "\n",
        "\n",
        "if __name__ == '__main__':\n",
        "  for i in range(3):\n",
        "    cipher = RandomCipher()\n",
        "    message = \"THE EAGLE IS IN PLAY; MEET AT JOE'S.\"\n",
        "    coded = cipher.encrypt(message)\n",
        "    print('Secret: ', coded)\n",
        "    answer = cipher.decrypt(coded)\n",
        "    print('Message:', answer, '\\n')"
      ],
      "execution_count": 18,
      "outputs": [
        {
          "output_type": "stream",
          "name": "stdout",
          "text": [
            "Secret:  BTI ISVCI PJ PU NCSQ; HIIB SB RDI'J.\n",
            "Message: THE EAGLE IS IN PLAY; MEET AT JOE'S. \n",
            "\n",
            "Secret:  CMW WVNIW BF BL XIVJ; DWWC VC KQW'F.\n",
            "Message: THE EAGLE IS IN PLAY; MEET AT JOE'S. \n",
            "\n",
            "Secret:  TVB BHYFB CO CD XFHN; JBBT HT LWB'O.\n",
            "Message: THE EAGLE IS IN PLAY; MEET AT JOE'S. \n",
            "\n"
          ]
        }
      ]
    },
    {
      "cell_type": "code",
      "metadata": {
        "id": "0lEPvg9g8lMr"
      },
      "source": [
        ""
      ],
      "execution_count": null,
      "outputs": []
    }
  ]
}